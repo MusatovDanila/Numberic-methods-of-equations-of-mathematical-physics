{
 "cells": [
  {
   "cell_type": "markdown",
   "id": "2dbe81bf",
   "metadata": {},
   "source": [
    "# Cеточные модели уравнений с частными производными"
   ]
  },
  {
   "cell_type": "markdown",
   "id": "dd62501a",
   "metadata": {},
   "source": [
    "## Лабораторная №4 \n",
    "## (Решение задачи Коши для ОДУ второго и более высоких порядков)"
   ]
  },
  {
   "cell_type": "markdown",
   "id": "9351ed96",
   "metadata": {},
   "source": [
    "Выполнил Мусатов Данила Юрьевич КМБО-03-18"
   ]
  },
  {
   "cell_type": "markdown",
   "id": "a693583a",
   "metadata": {},
   "source": [
    "Задача Коши для ОДУ $n$-го порядка ставится следующим образом:\n",
    "\n",
    "$$\n",
    "\\begin{aligned}\n",
    "&y^{(n)}=f\\left(x, y, y^{\\prime}, y^{\\prime \\prime}, \\ldots, y^{(n-1)}\\right) \\\\\n",
    "&y\\left(x_{0}\\right)=y_{0} \\\\\n",
    "&y^{\\prime}\\left(x_{0}\\right)=y_{01} \\\\\n",
    "&y^{\\prime \\prime}\\left(x_{0}\\right)=y_{02} \\\\\n",
    "&\\cdots \\\\\n",
    "&y^{(n-1)}\\left(x_{0}\\right)=y_{0(n-1)}\n",
    "\\end{aligned}\n",
    "$$\n",
    "\n",
    "Основной прием, используемый при решении задач такого типа заключается в введении новых переменных и сведении исходной задачи для ОДУ высокого порядка к решению системы ОДУ первого порядка. Введем новые переменные\n",
    "\n",
    "$$\n",
    "\\begin{aligned}\n",
    "&z_{1}=y^{\\prime} \\\\\n",
    "&z_{2}=y^{\\prime \\prime} \\\\\n",
    "&\\cdots \\\\\n",
    "&x_{n-1}=y^{(n-1)}\n",
    "\\end{aligned}\n",
    "$$\n",
    "\n",
    "$\\mathrm{C}$ ними исходную задачу можно переписать в виде системы $n$ ОДУ пер вого порядка:\n",
    "\n",
    "$$\n",
    "\\left\\{\\begin{array}{l}\n",
    "y^{\\prime}=z_{1}, \\\\\n",
    "z_{1}^{\\prime}=z_{2}, \\\\\n",
    "z_{2}^{\\prime}=z_{3}, \\\\\n",
    "\\cdots \\\\\n",
    "z_{n-2}^{\\prime}=z_{n-1}, \\\\\n",
    "z_{n-1}^{\\prime}=f\\left(x, y, z_{1}, \\ldots, z_{n-1}\\right)\n",
    "\\end{array}\\right.\n",
    "$$\n"
   ]
  },
  {
   "cell_type": "markdown",
   "id": "4b3a6379",
   "metadata": {},
   "source": [
    "### Задание:\n",
    "Решить задачу Коши со значениями шага $h_{1}=0.1$ и $h_{2}=0.01 .$ Сравнить результаты графически.\n",
    "#### Вариант №2: \n",
    "$$\n",
    "\\begin{aligned}\n",
    "x^{4} y^{\\prime \\prime}+2 x^{3} y^{\\prime}+y=0 \\quad\\qquad\\\\\n",
    "y(1)=1, \\quad y^{\\prime}(1)=2, \\quad x \\in[1,2]\n",
    "\\end{aligned}\n",
    "$$"
   ]
  },
  {
   "cell_type": "markdown",
   "id": "360fe5af",
   "metadata": {},
   "source": [
    "### Решение заменой\n",
    "\n",
    "$$\n",
    "\\left\\{\\begin{array}{l}\n",
    "x^{4}z^{\\prime}+2 x^{3}z+y=0 \\\\\n",
    "z=y^{\\prime}\\\\\n",
    "y(1)=1 \\\\ \n",
    "y^{\\prime}(1)=2 \\\\ \n",
    "x \\in[1,2]\n",
    "\\end{array}\\right.\\qquad \\qquad\\qquad\n",
    "\\left\\{\\begin{array}{l}\n",
    "z^{\\prime}=-\\dfrac{2x^{3}z+y}{x^{4}} \\\\\n",
    "z=y^{\\prime}\\\\\n",
    "y(1)=1 \\\\ \n",
    "z(1)=2 \\\\ \n",
    "x \\in[1,2]\n",
    "\\end{array}\\right.\n",
    "$$"
   ]
  },
  {
   "cell_type": "markdown",
   "id": "738a44cb",
   "metadata": {},
   "source": [
    "### Решение аналитическое\n",
    "$$\n",
    "\\begin{aligned}\n",
    "y(x)=\\cos\\left(\\dfrac{x-1}{x}\\right)+2\\sin\\left(\\dfrac{x-1}{x}\\right)\n",
    "\\end{aligned}\n",
    "$$"
   ]
  },
  {
   "cell_type": "code",
   "execution_count": 1,
   "id": "ef1a2fc4",
   "metadata": {},
   "outputs": [],
   "source": [
    "import matplotlib.pyplot as plt\n",
    "#from math import cos, sin\n",
    "from IPython.display import display\n",
    "import ipywidgets as ip_w \n",
    "import numpy as np\n",
    "\n",
    "func = lambda x, y, z: (- ((2*(x**3))*z) - y)/(x**4)\n",
    "\n",
    "source_func = lambda x:  (2*np.sin((x - 1)/x) + np.cos((x - 1)/x))    # аналитическое решение\n",
    "\n",
    "# Функция для оценки максимального отклонения от аналитического решения\n",
    "def max_error(xs, ys, source_func):\n",
    "    return max(np.fabs(ys - source_func(xs)))\n",
    "\n",
    "def Method_Euler_without_recalc(func, y0, z0, a, b, h):\n",
    "    #Euler method withot recalc\n",
    "    xs = np.arange(a, b + h, h)\n",
    "    ys = [y0]\n",
    "    zs = [z0]\n",
    "    for x in xs[1:]:\n",
    "        ys.append(ys[-1] + h*zs[-1])\n",
    "        zs.append(zs[-1] + h*func(x-h,ys[-1], zs[-1]))\n",
    "    return xs, np.array(ys) , np.array(zs) \n",
    "\n",
    "def source_without_recalc(y0, z0, a, b, h): #сравнение между методом Эйлера и точным значением\n",
    "    xs, ys, _ = Method_Euler_without_recalc(func, y0, z0, a, b, h)\n",
    "    plt.rcParams[\"figure.figsize\"] = (15,8)\n",
    "    plt.grid(True)\n",
    "    plt.plot(xs, ys, color=\"blue\", label=\"Метод эйлера без перерасчета с шагом \" + str(h))\n",
    "    plt.plot(xs, source_func(xs), color=\"green\", label=f\"Точное аналитическое решение Задачи c шагом \" + str(h))\n",
    "    plt.legend()\n",
    "    plt.show()\n",
    "    print(\"Максимальное отклонение от аналитического решения с шагом \" + str(h), \"равно : \", max_error(xs, ys, source_func))"
   ]
  },
  {
   "cell_type": "code",
   "execution_count": 2,
   "id": "1c2df134",
   "metadata": {},
   "outputs": [],
   "source": [
    "Y0=1\n",
    "Z0=2\n",
    "A=1\n",
    "B=2"
   ]
  },
  {
   "cell_type": "code",
   "execution_count": 3,
   "id": "cacb8c22",
   "metadata": {},
   "outputs": [
    {
     "data": {
      "application/vnd.jupyter.widget-view+json": {
       "model_id": "3f0c3b47a1dd4296988292e3f4b08f02",
       "version_major": 2,
       "version_minor": 0
      },
      "text/plain": [
       "interactive(children=(FloatSlider(value=0.01, description='h', max=0.1, min=0.01, step=0.01), Output()), _dom_…"
      ]
     },
     "metadata": {},
     "output_type": "display_data"
    }
   ],
   "source": [
    "ip_w.interact(source_without_recalc,  y0 = ip_w.fixed(Y0), z0 = ip_w.fixed(Z0), a=ip_w.fixed(A), b=ip_w.fixed(B), h=ip_w.FloatSlider(min=0.01, max=0.1, step=0.01));"
   ]
  },
  {
   "cell_type": "markdown",
   "id": "bdee3d56",
   "metadata": {},
   "source": [
    "## Оценка погрешности с помощью правила Рунге"
   ]
  },
  {
   "cell_type": "markdown",
   "id": "ec1b61cb",
   "metadata": {},
   "source": [
    "$$error = \\frac{| y_h - y_{h/2}|}{2^p - 1}$$ "
   ]
  },
  {
   "cell_type": "code",
   "execution_count": 4,
   "id": "358433ca",
   "metadata": {},
   "outputs": [],
   "source": [
    "def Runge_rule(ys1, ys2, p=1):\n",
    "    return max(np.fabs(ys1 - ys2))/(2**p - 1)"
   ]
  },
  {
   "cell_type": "markdown",
   "id": "0a4298cb",
   "metadata": {},
   "source": [
    "Для метода Эйлера без перерасчета порядок точности равен 1"
   ]
  },
  {
   "cell_type": "code",
   "execution_count": 5,
   "id": "cf3da16a",
   "metadata": {},
   "outputs": [],
   "source": [
    "def Euler_estimation_error_Ruge_depending_on_h(y0,z0,a,b,h):\n",
    "    _, ys1, _ = Method_Euler_without_recalc(func, y0,z0, a, b, h)\n",
    "    _, ys2,_ = Method_Euler_without_recalc(func, y0, z0, a, b, h/2)\n",
    "    if(len(ys1)!=len(ys2[::2])):\n",
    "        ys1=np.delete(ys1,len(ys1)-1,0)\n",
    "    err1 = Runge_rule(ys1, ys2[::2])\n",
    "    print(f\" Ошибка по Правило рунге для шага {h} равна {round(err1, 7)}\" )"
   ]
  },
  {
   "cell_type": "code",
   "execution_count": 6,
   "id": "1f53c4b7",
   "metadata": {},
   "outputs": [
    {
     "data": {
      "application/vnd.jupyter.widget-view+json": {
       "model_id": "5570f1c1fcce4b35bb243d173e81eca0",
       "version_major": 2,
       "version_minor": 0
      },
      "text/plain": [
       "interactive(children=(FloatSlider(value=0.01, description='h', max=0.1, min=0.01, step=0.01), Output()), _dom_…"
      ]
     },
     "metadata": {},
     "output_type": "display_data"
    }
   ],
   "source": [
    "ip_w.interact(Euler_estimation_error_Ruge_depending_on_h,  y0 = ip_w.fixed(Y0), z0 = ip_w.fixed(Z0), a=ip_w.fixed(A), b=ip_w.fixed(B), p=ip_w.fixed(1), h=ip_w.FloatSlider(min=0.01, max=0.1, step=0.01));"
   ]
  },
  {
   "cell_type": "markdown",
   "id": "f8e3c05c",
   "metadata": {},
   "source": [
    "Ошибка по Правило рунге для шага 0.01 равна 0.0016893 </br>\n",
    "Ошибка по Правило рунге для шага 0.1 равна 0.0200142"
   ]
  },
  {
   "cell_type": "code",
   "execution_count": 7,
   "id": "a3543553",
   "metadata": {},
   "outputs": [],
   "source": [
    "from scipy.integrate import odeint as ODE"
   ]
  },
  {
   "cell_type": "code",
   "execution_count": 8,
   "id": "38e24e88",
   "metadata": {},
   "outputs": [],
   "source": [
    "def f_m(y_m,x):\n",
    "    y = y_m[0]\n",
    "    dy = y_m[1]  \n",
    "    ydot = [[],[]]\n",
    "    ydot[0] = dy\n",
    "    ydot[1] = (- (2*x**3)*dy - y)/(x**4)\n",
    "    return ydot\n",
    "\n",
    "def scipy_ODE(func, y_m, a, b, h):\n",
    "    xs = np.arange(a, b+h, h)\n",
    "    ys = ODE(func,y_m,xs)\n",
    "    return xs, ys"
   ]
  },
  {
   "cell_type": "code",
   "execution_count": 9,
   "id": "48638225",
   "metadata": {},
   "outputs": [],
   "source": [
    "def comparison_source_with_Scipy(y0, z0, a, b, h):\n",
    "    y_m=[y0,z0]\n",
    "    xs, ys = scipy_ODE(f_m, y_m, a, b, h)\n",
    "    plt.rcParams[\"figure.figsize\"] = (15,8)\n",
    "    plt.grid(True)\n",
    "    plt.plot(xs, ys[:,0], color=\"blue\", label=\"Решение с помощью модуля Scipy \" + str(h))\n",
    "    plt.plot(xs, source_func(xs), color=\"green\", label=f\"Точное аналитическое решение Задачи c шагом \" + str(h))\n",
    "    plt.legend()\n",
    "    plt.show()    \n",
    "    print(\"Максимальное отклонение от аналитического решения с шагом \" + str(h), \"равно : \", max_error(xs, ys[:,0], source_func))\n"
   ]
  },
  {
   "cell_type": "code",
   "execution_count": 10,
   "id": "0c9f6e8c",
   "metadata": {},
   "outputs": [
    {
     "data": {
      "application/vnd.jupyter.widget-view+json": {
       "model_id": "95a946c8e0a34c8283768ecfaefafa69",
       "version_major": 2,
       "version_minor": 0
      },
      "text/plain": [
       "interactive(children=(FloatSlider(value=0.01, description='h', max=0.1, min=0.01, step=0.01), Output()), _dom_…"
      ]
     },
     "metadata": {},
     "output_type": "display_data"
    }
   ],
   "source": [
    "ip_w.interact(comparison_source_with_Scipy,  y0 = ip_w.fixed(Y0), z0 = ip_w.fixed(Z0), a=ip_w.fixed(A), b=ip_w.fixed(B), h=ip_w.FloatSlider(min=0.01, max=0.1, step=0.01));"
   ]
  },
  {
   "cell_type": "markdown",
   "id": "5c5551ac",
   "metadata": {},
   "source": [
    "Значения от аналитического решения отличаются на 10^(-8)"
   ]
  }
 ],
 "metadata": {
  "kernelspec": {
   "display_name": "Python 3 (ipykernel)",
   "language": "python",
   "name": "python3"
  },
  "language_info": {
   "codemirror_mode": {
    "name": "ipython",
    "version": 3
   },
   "file_extension": ".py",
   "mimetype": "text/x-python",
   "name": "python",
   "nbconvert_exporter": "python",
   "pygments_lexer": "ipython3",
   "version": "3.9.7"
  }
 },
 "nbformat": 4,
 "nbformat_minor": 5
}
