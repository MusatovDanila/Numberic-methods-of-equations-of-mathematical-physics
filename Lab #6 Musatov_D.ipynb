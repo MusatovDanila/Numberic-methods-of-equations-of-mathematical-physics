{
 "cells": [
  {
   "cell_type": "markdown",
   "id": "367b9f4a",
   "metadata": {},
   "source": [
    "# Cеточные модели уравнений с частными производными"
   ]
  },
  {
   "cell_type": "markdown",
   "id": "1f194ca5",
   "metadata": {},
   "source": [
    "## Лабораторная №6 (Конечно-разностный метод)"
   ]
  },
  {
   "cell_type": "markdown",
   "id": "d88b7202",
   "metadata": {},
   "source": [
    "Выполнил Мусатов Данила Юрьевич КМБО-03-18"
   ]
  },
  {
   "cell_type": "markdown",
   "id": "f99e3d05",
   "metadata": {},
   "source": [
    "Рассмотрим краевую задачу для линейного дифференциального уравненя второго порядка на отрезке $[a, b]$ с соответствующими краевыми условиями\n",
    "\n",
    "$$\n",
    "\\begin{gathered}\n",
    "y^{\\prime \\prime}+p(x) y^{\\prime}+q(x) y=f(x) \\\\\n",
    "y(a)=y_{a}, \\quad y(b)=y_{b}\n",
    "\\end{gathered}\n",
    "$$\n",
    "\n",
    "Введем на отрезке $[a, b]$ разностную сетку $\\Omega^{(h)}=\\left\\{x_{k}=x_{a}+h k\\right\\}, h=$ $(b-a) / N, k=0,1, \\ldots, N$. Решение данной задачи будем искать в виде сеточной функции $y^{(k)}=\\left\\{y_{k}, k=0,1, \\ldots, N\\right\\}$, предполагая, что решение существует и единственно. Введем разностную аппроксимацию производных:\n",
    "\n",
    "$$\n",
    "y_{k}^{\\prime}=\\frac{y_{k+1}-y_{k-1}}{h^{2}}+O\\left(h^{2}\\right), \\qquad\\qquad y_{k}^{\\prime \\prime}=\\frac{y_{k+1}-2 y_{k}+y_{k-1}}{h^{2}}+O\\left(h^{2}\\right)\n",
    "$$\n",
    "\n",
    "подставляя аппроксимации производных в исходное уравнение, получим систему уравнений для нахождения $y_{k}$ :\n",
    "\n",
    "$$\n",
    "\\left\\{\\begin{array}{l}\n",
    "y_{0}=y_{a}, \\\\\n",
    "\\cdots \\\\\n",
    "\\dfrac{y_{n+1}-2 y_{k}+y_{k-1}}{h^{2}}+p\\left(x_{k}\\right) \\dfrac{y_{k+1}-y_{k-1}}{2 h}+q\\left(x_{k}\\right) y_{k}=f\\left(x_{k}\\right) \\\\\n",
    "\\cdots \\\\\n",
    "y_{N}=y_{b}\n",
    "\\end{array}\\right.\n",
    "$$\n",
    "\n",
    "где\n",
    "\n",
    "$$\n",
    "k=1,2, \\ldots, N-1 .\n",
    "$$\n",
    "\n",
    "Приводя подобные и учитывая, что при задании граничных условий первого рода две неизвестные $y_{0}, y_{N}$ уже фактически определены, получим систему линейных алгебраических уравнений с трехдиагональной матрицей коэффициентов:</br></br>\n",
    "\n",
    "$$\n",
    "\\begin{aligned}\n",
    "&\\left\\{\\begin{array}{l}\n",
    "\\left(-2+h^{2} q\\left(x_{1}\\right)\\right) y_{1}+\\left(1+\\dfrac{p\\left(x_{1}\\right) h}{2}\\right) y_{2}=h^{2} f\\left(x_{1}\\right)-\\left(1-\\dfrac{p\\left(x_{1}\\right) h}{2}\\right) y_{a} \\\\\\\\\n",
    "\\left(1-\\dfrac{p\\left(x_{k}\\right) h}{2}\\right) y_{k-1}+\\left(-2+h^{2} q\\left(x_{k}\\right)\\right) y_{k}+\\left(1+\\dfrac{p\\left(x_{k}\\right) h}{2}\\right) y_{k+1}=h^{2} f\\left(x_{k}\\right) k, \\\\\\\\\n",
    "\\begin{array}{c}\n",
    "\\left(1-\\dfrac{p\\left(x_{N-1}\\right) h}{2}\\right) y_{N-1}+\\left(-2+h^{2} q\\left(x_{N-1}\\right)\\right) y_{N-1}=h^{2} f\\left(x_{N-1}\\right)-\\left(1+\\dfrac{p\\left(x_{N-1}\\right) h}{2}\\right) y_{b}\n",
    "\\end{array} \n",
    "\\end{array}\\right.\n",
    "\\end{aligned}\n",
    "$$\n",
    "\n",
    "где\n",
    "\n",
    "$$\n",
    "k=2, \\ldots, N-2\n",
    "$$\n",
    "\n",
    "Для данной системы при достаточно малых шагах сетка выполнены условия преобладания диагональных элементов</br></br>\n",
    "\n",
    "$$\n",
    "\\left\\{\\begin{array}{l}\n",
    "\\left|-2+h^{2} q\\left(x_{k}\\right)\\right|>\\left|1+\\dfrac{p\\left(x_{1}\\right) h}{2}\\right| \\\\\n",
    "\\left|-2+h^{2} q\\left(x_{k}\\right)\\right|>\\left|1-\\dfrac{p\\left(x_{k}\\right) h}{2}\\right|+\\left|1+\\dfrac{p\\left(x_{k}\\right) h}{2}\\right|, k=2, \\ldots, N-2 \\\\\n",
    "\\left|-2+h^{2} q\\left(x_{N-1}\\right)\\right|>\\left|1-\\dfrac{p\\left(x_{n-1}\\right) h}{2}\\right|\n",
    "\\end{array}\\right.\n",
    "$$</br>\n",
    "\n",
    "что гарантирует устойчивость счета и корректность применения метода прогонки для решения этой системы.\n",
    "\n",
    "В случае использования граничных условий второго и третьего рода аппроксимация производных проводится с помощью односторонних разностей первого или второго порядков.\n",
    "\n",
    "$$\n",
    "\\begin{gathered}\n",
    "\\left\\{\\begin{array}{l}\n",
    "y_{0}^{\\prime}=\\dfrac{y_{1}-y_{0}}{h}+O(h) \\\\\\\\\n",
    "y_{N}^{\\prime}=\\dfrac{y_{n}-y_{n-1}}{h}+O(h)\n",
    "\\end{array}\\right. \\\\\\\\\\\\\n",
    "\\left\\{\\begin{array}{l}\n",
    "y_{0}^{\\prime}=\\dfrac{-3 y_{0}+4 y_{1}-y_{2}}{2 h}+O\\left(h^{2}\\right) \\\\\\\\\n",
    "y_{N}^{\\prime}=\\dfrac{y_{N-2}-4 y_{N-1}+3 y_{N}}{2 h}+O\\left(h^{2}\\right)\n",
    "\\end{array}\\right.\n",
    "\\end{gathered}\n",
    "$$"
   ]
  },
  {
   "cell_type": "markdown",
   "id": "0d98e971",
   "metadata": {},
   "source": [
    "#### Задание: (Вариант №1)\n",
    "Решить краевую задачу для ОДУ второго порядка Конечно-разностным методом.\n",
    "\n",
    "$$\\begin{array}{l}\n",
    "(x^{2}+1) y^{\\prime \\prime}-2y=0, \\\\\n",
    "y^{\\prime}(0)=2, \\qquad\\quad y(1)=3+\\dfrac{\\pi}{2}\n",
    "\\end{array}$$\n",
    "\n",
    "#### Задание: (Вариант №2)\n",
    "Решить краевую задачу для ОДУ второго порядка Конечно-разностным методом.\n",
    "\n",
    "$$\\begin{array}{l}\n",
    "x(x^{2}+6) y^{\\prime \\prime}-4( x^{2} +3) y^{\\prime}+6xy=0, \\\\\n",
    "y^{\\prime}(1)=0, \\qquad\\quad y(4)-y^{\\prime}(4)=26\n",
    "\\end{array}$$"
   ]
  },
  {
   "cell_type": "markdown",
   "id": "86678904",
   "metadata": {},
   "source": [
    "### Аналитическое решение\n",
    "\n",
    "#### Вариант 1:\n",
    "$$\n",
    "y=x^2+(x^2+1)\\arctan(x)+x+1\n",
    "$$\n",
    "\n",
    "\n",
    "#### Вариант 2:\n",
    "$$\n",
    "y=13(2x^3-3x^2-6)\n",
    "$$"
   ]
  },
  {
   "cell_type": "code",
   "execution_count": 1,
   "id": "360d0539",
   "metadata": {},
   "outputs": [],
   "source": [
    "import matplotlib.pyplot as plt\n",
    "#from math import cos, sin\n",
    "from IPython.display import display\n",
    "import ipywidgets as ip_w \n",
    "import numpy as np\n",
    "from scipy.integrate import odeint, solve_bvp"
   ]
  },
  {
   "cell_type": "code",
   "execution_count": 2,
   "id": "c24a90f6",
   "metadata": {},
   "outputs": [],
   "source": [
    "A_1,B_1= 0,1\n",
    "A_2,B_2 = 1,4\n",
    "f_a_1, f_b_1= 2, (3+(np.pi/2))\n",
    "f_a_2, f_b_2= 0, -26"
   ]
  },
  {
   "cell_type": "code",
   "execution_count": 3,
   "id": "c4ea9225",
   "metadata": {},
   "outputs": [],
   "source": [
    "def runThroughMethod(n, A, B):\n",
    "    a = np.zeros(n)\n",
    "    b = np.zeros(n)\n",
    "    c = np.zeros(n)\n",
    "    d = np.zeros(n)\n",
    "    a1 = np.zeros(n)\n",
    "    b1 = np.zeros(n)\n",
    "    c1 = np.zeros(n)\n",
    "    d1 = np.zeros(n)\n",
    "    P = np.zeros(n)\n",
    "    Q = np.zeros(n)\n",
    "    x = np.zeros(n)\n",
    "    \n",
    "    A1=np.matrix.copy(A)\n",
    "    B1=np.matrix.copy(B)\n",
    "\n",
    "\n",
    "    P[0] = -A[0, 1] / A[0, 0]\n",
    "    #print(\"P[\",0,\"] = \",P[0])\n",
    "    Q[0] = B[0, 0] /  A[0, 0]\n",
    "    #print(\"Q[\",0,\"] = \",Q[0])\n",
    "    \n",
    "    for i in range (1,n-1):\n",
    "        P[i] = (-A[i, i+1]) / (A[i, i] + A[i, i-1] * P[i-1])\n",
    "        #print(\"P[\",i,\"] = \",P[i])\n",
    "        Q[i] = (B[i, 0] - A[i, i-1] * Q[i-1]) / (A[i, i] + A[i, i-1] * P[i-1])\n",
    "        #print(\"Q[\",i,\"] = \",Q[i])\n",
    "    \n",
    "    #print(\"P[\",n-1,\"] = \",P[n-1])\n",
    "    Q[n-1] = (B[n-1, 0] - A[n-1, n-2] * Q[n-2]) / (A[n-1, n-1] + A[n-1, n-2] * P[n-2])\n",
    "    #print(\"Q[\",n-1,\"] = \",Q[n-1])\n",
    "\n",
    "    x[n-1] = Q[n-1]\n",
    "    #print(\"x[\",n-1,\"] = \",x[n-1])\n",
    "\n",
    "    for i in range (n-2,-1,-1): \n",
    "        x[i] = P[i] * x[i+1] + Q[i]\n",
    "        #print(\"x[\",i,\"] = \",x[i])\n",
    "\n",
    "    proofer = 0\n",
    "    if np.fabs(( A1[0, 0]* x[0] + A1[0, 1]  * x[1]) - B1[0, 0]) < 0.00001:\n",
    "        proofer = proofer + 1\n",
    "    \n",
    "    #print(A1[0, 0] * x[0] + A1[0, 1] * x[1])\n",
    "\n",
    "    for i in range(1,n-1):\n",
    "        if np.fabs((A1[i, i-1] * x[i-1] + A1[i, i] * x[i] + A1[i, i+1] * x[i+1]) - B1[i, 0]) < 0.00001: \n",
    "            proofer = proofer + 1\n",
    "        #print(A1[i, i-1] * x[i-1] + A1[i, i] * x[i] + A1[i, i+1] * x[i+1])\n",
    "\n",
    "    if np.fabs((A[n-1, n-2] * x[n-2] + A[n-1, n-1] * x[n-1]) - B1[n-1, 0]) < 0.00001:\n",
    "        proofer = proofer + 1\n",
    "\n",
    "    #print(A[n-1, n-2] * x[n-2] + A[n-1, n-1] * x[n-1])\n",
    "\n",
    "    if proofer == n: \n",
    "        print(\"all good\")\n",
    "    else:\n",
    "        print(\"all bad\")\n",
    "        \n",
    "    return x\n"
   ]
  },
  {
   "cell_type": "code",
   "execution_count": 4,
   "id": "67e38d3a",
   "metadata": {},
   "outputs": [],
   "source": [
    "def f(x):\n",
    "    return 0\n",
    "\n",
    "def source_func_1(x):\n",
    "    return ((x**2)+((x**2)+1)*((np.arctan(x)))+x+1)\n",
    "def source_func_2(x):\n",
    "    return (13 * (2*(x**3)-3*(x**2)-6))\n",
    "    \n",
    "def p_1(x):\n",
    "    return 0\n",
    "def p_2(x):\n",
    "    return (-4*((x**2)+3))/(x*((x**2)+6))\n",
    "\n",
    "def q_1(x):\n",
    "    return(-2/((x**2)+1))\n",
    "def q_2(x):\n",
    "    return (6)/((x**2)+6)\n",
    "\n",
    "def first_coef(h):\n",
    "    return 1/h, -1/h\n",
    "\n",
    "def last_coef_1(h):\n",
    "    return 1, 0\n",
    "def last_coef_2(h):\n",
    "    return (1/h)-1, -1/h\n"
   ]
  },
  {
   "cell_type": "code",
   "execution_count": 5,
   "id": "016e3a7e",
   "metadata": {},
   "outputs": [],
   "source": [
    "# Функция для оценки максимального отклонения от аналитического решения\n",
    "def max_error(xs, ys, source_func):\n",
    "    return max(np.fabs(ys - source_func(xs)))\n",
    "\n",
    "def Finite_Difference_Method(func_x, h, a, b, f_a, f_b, p_x, q_x, f_c, l_c):\n",
    "    N=int((b-a)/h)\n",
    "    B=np.asmatrix(np.zeros((N))).getT()\n",
    "    A=np.asmatrix(np.zeros((N,N)))\n",
    "    x=np.linspace(a, b, N)\n",
    "    A[0, 1], A[0, 0]=f_c(h) #first coef\n",
    "    B[0]=f_a\n",
    "    A[N-1, N-1], A[N-1, N-2]=l_c(h) #last coef\n",
    "    B[N-1]=f_b\n",
    "    for i in range (1,N-1):\n",
    "        B[i]=func_x(x[i])\n",
    "        A[i, i-1]=((1/(h**2))-(p_x(x[i])*(1/(2*h))))\n",
    "        A[i, i]=((-2/(h**2))+q_x(x[i]))\n",
    "        A[i, i+1]=((1/(h**2))+(p_x(x[i])*(1/(2*h))))\n",
    "    \n",
    "    y = runThroughMethod(N,A,B)\n",
    "    return x, y"
   ]
  },
  {
   "cell_type": "code",
   "execution_count": 6,
   "id": "6b49a56e",
   "metadata": {},
   "outputs": [],
   "source": [
    "def source_Finite_Difference_1(a, b, f_a, f_b, h): #сравнение между методом стрельбы с применением метода Эйлера и точным значением\n",
    "    xs, ys = Finite_Difference_Method(f, h, a, b, f_a, f_b, p_1, q_1, first_coef ,last_coef_1)\n",
    "    plt.rcParams[\"figure.figsize\"] = (15,8)\n",
    "    plt.grid(True)\n",
    "    plt.plot(xs, ys,  color=\"blue\", label=\"Решение с помощью Конечно-разностного метода \")\n",
    "    plt.plot(xs, source_func_1(xs), color=\"green\", label=f\"Точное аналитическое решение Задачи c шагом \" )\n",
    "    plt.legend()\n",
    "    plt.xlabel(\"x\")\n",
    "    plt.ylabel(\"y\")\n",
    "    plt.show()   \n",
    "    print(\"Максимальное отклонение от аналитического решения с шагом \" + str(h), \"равно : \", max_error(xs, ys, source_func_1))\n",
    "    \n",
    "def source_Finite_Difference_2(a, b, f_a, f_b, h): #сравнение между методом стрельбы с применением метода Эйлера и точным значением\n",
    "    xs, ys = Finite_Difference_Method(f, h, a, b, f_a, f_b, p_2, q_2, first_coef ,last_coef_2)\n",
    "    plt.rcParams[\"figure.figsize\"] = (15,8)\n",
    "    plt.grid(True)\n",
    "    plt.plot(xs, ys,  color=\"blue\", label=\"Решение с помощью Конечно-разностного метода \")\n",
    "    plt.plot(xs, source_func_2(xs), color=\"green\", label=f\"Точное аналитическое решение Задачи c шагом \" )\n",
    "    plt.legend()\n",
    "    plt.xlabel(\"x\")\n",
    "    plt.ylabel(\"y\")\n",
    "    plt.show()   \n",
    "    print(\"Максимальное отклонение от аналитического решения с шагом \" + str(h), \"равно : \", max_error(xs, ys, source_func_2))"
   ]
  },
  {
   "cell_type": "code",
   "execution_count": 7,
   "id": "1ae68752",
   "metadata": {
    "scrolled": false
   },
   "outputs": [
    {
     "data": {
      "application/vnd.jupyter.widget-view+json": {
       "model_id": "76f6c85bf4584d9eab44850abf5f4cc4",
       "version_major": 2,
       "version_minor": 0
      },
      "text/plain": [
       "interactive(children=(FloatSlider(value=0.01, description='h', max=0.1, min=0.01, step=0.01), Output()), _dom_…"
      ]
     },
     "metadata": {},
     "output_type": "display_data"
    }
   ],
   "source": [
    "ip_w.interact(source_Finite_Difference_1, a=ip_w.fixed(A_1), b=ip_w.fixed(B_1), f_a=ip_w.fixed(f_a_1), f_b=ip_w.fixed(f_b_1), h=ip_w.FloatSlider(min=0.01, max=0.1, step=0.01));\n"
   ]
  },
  {
   "cell_type": "code",
   "execution_count": 8,
   "id": "38606f43",
   "metadata": {},
   "outputs": [
    {
     "data": {
      "application/vnd.jupyter.widget-view+json": {
       "model_id": "3480a7d0b6e44870977b77a80d648721",
       "version_major": 2,
       "version_minor": 0
      },
      "text/plain": [
       "interactive(children=(FloatSlider(value=0.001, description='h', max=0.05, min=0.001, step=0.001), Output()), _…"
      ]
     },
     "metadata": {},
     "output_type": "display_data"
    }
   ],
   "source": [
    "ip_w.interact(source_Finite_Difference_2, a=ip_w.fixed(A_2), b=ip_w.fixed(B_2), f_a=ip_w.fixed(f_a_2), f_b=ip_w.fixed(f_b_2), h=ip_w.FloatSlider(min=0.001, max=0.05, step=0.001));\n"
   ]
  },
  {
   "cell_type": "markdown",
   "id": "b83d84ba",
   "metadata": {},
   "source": [
    "## Оценка погрешности с помощью правила Рунге"
   ]
  },
  {
   "cell_type": "markdown",
   "id": "a2c47287",
   "metadata": {},
   "source": [
    "$$error = \\frac{| y_h - y_{h/2}|}{2^p - 1}$$ "
   ]
  },
  {
   "cell_type": "code",
   "execution_count": 9,
   "id": "63827a9d",
   "metadata": {},
   "outputs": [],
   "source": [
    "def Runge_rule(ys1, ys2, p=1):\n",
    "    return max(np.fabs(ys1 - ys2))/(2**p - 1)"
   ]
  },
  {
   "cell_type": "code",
   "execution_count": 10,
   "id": "2bde6bf0",
   "metadata": {},
   "outputs": [],
   "source": [
    "def Finite_Difference_estimation_error_Ruge_depending_on_h(a, b, f_a, f_b, h):\n",
    "    _, ys1 = Finite_Difference_Method(f, h, a, b, f_a, f_b, p_1, q_1, first_coef ,last_coef_1)\n",
    "    _, ys2 = Finite_Difference_Method(f, h/2, a, b, f_a, f_b, p_1, q_1, first_coef ,last_coef_1)\n",
    "    if(len(ys1)!=len(ys2[::2])):\n",
    "        ys1=np.delete(ys1,len(ys1)-1,0)\n",
    "    err1 = Runge_rule(ys1, ys2[::2],1)\n",
    "    print(f\" Ошибка по Правилу рунге для шага {h} равна {round(err1, 7)}\" )"
   ]
  },
  {
   "cell_type": "code",
   "execution_count": 11,
   "id": "05805a33",
   "metadata": {},
   "outputs": [
    {
     "data": {
      "application/vnd.jupyter.widget-view+json": {
       "model_id": "14ed03a679c74ed98ea8cc9301bcb3c5",
       "version_major": 2,
       "version_minor": 0
      },
      "text/plain": [
       "interactive(children=(FloatSlider(value=0.01, description='h', max=0.1, min=0.01, step=0.02), Output()), _dom_…"
      ]
     },
     "metadata": {},
     "output_type": "display_data"
    }
   ],
   "source": [
    "ip_w.interact(Finite_Difference_estimation_error_Ruge_depending_on_h, a=ip_w.fixed(A_1), b=ip_w.fixed(B_1), f_a=ip_w.fixed(f_a_1), f_b=ip_w.fixed(f_b_1), h=ip_w.FloatSlider(min=0.01, max=0.1, step=0.02));\n"
   ]
  },
  {
   "cell_type": "markdown",
   "id": "b95a1d85",
   "metadata": {},
   "source": [
    "Ошибка по Правилу рунге для шага 0.01 равна 0.027774</br>\n",
    "Ошибка по Правилу рунге для шага 0.09 равна 0.2435454"
   ]
  },
  {
   "cell_type": "code",
   "execution_count": 12,
   "id": "25107bf8",
   "metadata": {},
   "outputs": [
    {
     "data": {
      "image/png": "[encoded data removed]",
      "text/plain": [
       "<Figure size 1080x576 with 1 Axes>"
      ]
     },
     "metadata": {
      "needs_background": "light"
     },
     "output_type": "display_data"
    },
    {
     "name": "stdout",
     "output_type": "stream",
     "text": [
      "Максимальное отклонение от аналитического решения с шагом  равно :  1.240719160744419e-06\n"
     ]
    }
   ],
   "source": [
    "def dydx(x, y):\n",
    "    dy0 = y[1]\n",
    "    dy1 = 0*y[1]+(2/((x**2)+1))*y[0]\n",
    "    return np.vstack((dy0, dy1))\n",
    "\n",
    "def boundCond(ya, yb):\n",
    "    fa = 1\n",
    "    fb = (3+(np.pi/2))\n",
    "    return np.array([ya[0]-fa,yb[0]-fb])\n",
    "\n",
    "xa, xb = 0, 1 \n",
    "xini = np.linspace(xa, xb, 11) \n",
    "yini = np.zeros((2, xini.size))\n",
    "res = solve_bvp(dydx, boundCond, xini, yini)\n",
    "xs = np.linspace(xa, xb, 100) \n",
    "ys = res.sol(xs)[0]\n",
    "plt.plot(xs, ys,  color=\"blue\", label=\"Решение с помощью модуля Scipy \")\n",
    "plt.plot(xs, source_func_1(xs), color=\"green\", label=f\"Точное аналитическое решение Задачи c шагом \" )\n",
    "plt.legend()\n",
    "plt.xlabel(\"x\")\n",
    "plt.ylabel(\"y\")\n",
    "plt.show()    \n",
    "print(\"Максимальное отклонение от аналитического решения с шагом \", \"равно : \", max_error(xs, ys, source_func_1))"
   ]
  },
  {
   "cell_type": "markdown",
   "id": "2a07dba1",
   "metadata": {},
   "source": [
    "Максимальное отклонение от аналитического решения с шагом  равно :  1.240719160744419e-06"
   ]
  },
  {
   "cell_type": "code",
   "execution_count": 13,
   "id": "9a374634",
   "metadata": {},
   "outputs": [
    {
     "data": {
      "image/png": "[encoded data removed]",
      "text/plain": [
       "<Figure size 1080x576 with 1 Axes>"
      ]
     },
     "metadata": {
      "needs_background": "light"
     },
     "output_type": "display_data"
    },
    {
     "name": "stdout",
     "output_type": "stream",
     "text": [
      "Максимальное отклонение от аналитического решения с шагом  равно :  4.547473508864641e-13\n"
     ]
    }
   ],
   "source": [
    "def dydx(x, y):\n",
    "    dy0 = y[1]\n",
    "    dy1 = ((4*((x**2)+3))/(x*((x**2)+6)))*y[1]-(6/((x**2)+6))*y[0] # p(x)+q(x)\n",
    "    return np.vstack((dy0, dy1))\n",
    "                           \n",
    "# Calculation The boundary conditions \n",
    "def boundCond(ya, yb):\n",
    "    fa = -91 # The boundary conditions y(xa=1) = 0\n",
    "    fb = 962 # The boundary conditions y(xb=4) = y(4)-26\n",
    "    return np.array([ya[0]-fa,yb[0]-fb])\n",
    "                                                \n",
    "\n",
    "    \n",
    "xa, xb = 1, 4 # Boundary point (xa,xb)\n",
    "# fa, fb = 0.5, -1.5 # Boundary point y value \n",
    "xini = np.linspace(xa, xb, 11) # determine x Initial value of \n",
    "yini = np.zeros((2, xini.size)) # determine y Initial value of \n",
    "res = solve_bvp(dydx, boundCond, xini, yini) # solve BVP\n",
    "xSol = np.linspace(xa, xb, 100) # Output mesh node \n",
    "ySol = res.sol(xSol)[0] # At mesh nodes y value \n",
    "\n",
    "plt.plot(xSol, ySol, color=\"blue\", label=\"Решение с помощью модуля Scipy \")\n",
    "plt.plot(xSol, source_func_2(xSol), color=\"green\", label=f\"Точное аналитическое решение Задачи c шагом \" )\n",
    "plt.legend()\n",
    "plt.xlabel(\"x\")\n",
    "plt.ylabel(\"y\")\n",
    "plt.title(\"scipy.integrate.solve_bvp\")\n",
    "plt.show()\n",
    "print(\"Максимальное отклонение от аналитического решения с шагом \", \"равно : \", max_error(xSol, ySol, source_func_2))"
   ]
  },
  {
   "cell_type": "markdown",
   "id": "0c6c73cc",
   "metadata": {},
   "source": [
    "Максимальное отклонение от аналитического решения с шагом  равно :  4.547473508864641e-13"
   ]
  }
 ],
 "metadata": {
  "kernelspec": {
   "display_name": "Python 3 (ipykernel)",
   "language": "python",
   "name": "python3"
  },
  "language_info": {
   "codemirror_mode": {
    "name": "ipython",
    "version": 3
   },
   "file_extension": ".py",
   "mimetype": "text/x-python",
   "name": "python",
   "nbconvert_exporter": "python",
   "pygments_lexer": "ipython3",
   "version": "3.9.7"
  }
 },
 "nbformat": 4,
 "nbformat_minor": 5
}
