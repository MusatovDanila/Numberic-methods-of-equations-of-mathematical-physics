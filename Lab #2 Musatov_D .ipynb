{
 "cells": [
  {
   "cell_type": "markdown",
   "id": "4cc5ab9d",
   "metadata": {},
   "source": [
    "# Cеточные модели уравнений с частными производными"
   ]
  },
  {
   "cell_type": "markdown",
   "id": "41bfa465",
   "metadata": {},
   "source": [
    "## Лабораторная №2 (Метод Рунге-Кутты)"
   ]
  },
  {
   "cell_type": "markdown",
   "id": "28102808",
   "metadata": {},
   "source": [
    "Выполнил Мусатов Данила Юрьевич КМБО-03-18"
   ]
  },
  {
   "cell_type": "markdown",
   "id": "c229c316",
   "metadata": {},
   "source": [
    "# Задание №2"
   ]
  },
  {
   "cell_type": "markdown",
   "id": "7220f0b7",
   "metadata": {},
   "source": [
    "## Метод Рунге-Кутты\n",
    "### Семейство явных методов Рунге-Кутты $p$-го порядка записывается в виде совокупности формул:\n",
    "\n",
    "$$\n",
    "\\begin{gathered}\n",
    "y_{k+1}=y_{k}+\\Delta y_{k}, \\quad y_{k}=\\sum_{i=1}^{p} c_{k} K_{i}^{k} \\\\\n",
    "K_{i}^{k}=h f\\left(x_{k}+a_{i} h, y_{k}+h \\sum_{j=1}^{i-1} b_{i j} K_{j}^{k}\\right), \\quad i=2,3, \\ldots, p\n",
    "\\end{gathered}\n",
    "$$\n",
    "\n",
    "Параметры $a_{i}, b_{i j}, c_{i}$ подбираются так, чтобы значение $y_{k+1}$ совпадало со значением разложения в точке $x_{k+1}$ точного решения в ряд Тейлора с погрешностю $O\\left(h^{p+1}\\right)$.\n",
    "\n",
    "\n",
    "#### Метод Рунге-Кутты четвертого порядка\n",
    "\n",
    "Имеем:\n",
    "\n",
    "$$\n",
    "\\begin{gathered}\n",
    "a_{1}=0, \\quad a_{2}=\\frac{1}{2}, \\quad a_{3}=\\frac{1}{2}, \\quad a_{4}=1, \\\\\n",
    "b_{21}=\\frac{1}{2}, \\quad b_{31}=0, \\quad b_{32}=\\frac{1}{2}, b_{41}=0, \\quad b_{42}=0, \\quad b_{43}=\\frac{1}{2}, \\\\\n",
    "c_{1}=\\frac{1}{6}, \\quad c_{2}=\\frac{1}{3} \\quad c_{3}=\\frac{1}{3}, c_{4}=\\frac{1}{6},\n",
    "\\end{gathered}\n",
    "$$\n",
    "\n",
    "тогда\n",
    "\n",
    "$$\n",
    "\\begin{gathered}\n",
    "y_{k+1}=y_{k}+\\Delta y_{k}, \\quad \\Delta y_{k}=\\frac{1}{6}\\left(K_{1}^{k}+2 K_{2}^{k}+2 K_{3}^{k}+k_{4}^{k}\\right) \\\\\n",
    "K_{1}^{k}=h f\\left(x_{k}, y_{k}\\right), \\quad K_{2}^{k}=h f\\left(x_{k}+\\frac{1}{2} h, y_{k}+\\frac{1}{2} K_{1}^{k}\\right) \\\\\n",
    "K_{3}^{k}=h f\\left(x_{k}+\\frac{1}{2} h, y_{k}+\\frac{1}{2} K_{2}^{k}\\right), \\quad K_{4}^{k}=h f\\left(x_{k}+h, y_{k}+K_{3}^{k}\\right)\n",
    "\\end{gathered}\n",
    "$$\n",
    "\n",
    "#### Задание:\n",
    "Решить задачу Коши методом Рунге-Кутты 4-го порядка со значениями шага $h_{1}=0.1$ и $h_{2}=0.01$. Сравнить результаты графически.\n",
    "\n",
    "#### Вариант 2: $\\quad y^{\\prime}=\\frac{-y x+x\\left(x^{2}+1\\right)}{x^{2}+1}, \\quad y(0)=1, \\quad x \\in[0,1]$ ."
   ]
  },
  {
   "cell_type": "markdown",
   "id": "522445c5",
   "metadata": {},
   "source": [
    "### Аналитическое решение\n",
    "\n",
    "$$y{\\left(0 \\right)} = 1$$<br><br>$$y{\\left(x \\right)} = \\frac{C_{1} \\sqrt{x^{2} + 1} + x^{4} + 2 x^{2} + 1}{3 \\left(x^{2} + 1\\right)}$$<br><br>$$1 = \\frac{C_{1} \\sqrt{0^{2} + 1} + 0^{4} + 2 \\cdot 0^{2} + 1}{3 \\left(0^{2} + 1\\right)}$$<br><br>$$C_{1} = 2$$<br><br>$$y{\\left(x \\right)} = \\frac{x^{4} + 2 x^{2} + 2 \\sqrt{x^{2} + 1} + 1}{3 \\left(x^{2} + 1\\right)}$$<br><br><a data-pod=\"funcgraphs.xy\" data-input='{\"function\": \"(1 + x^4 + 2*x^2 + 2*sqrt(1 + x^2))/(3*(1 + x^2))\", \"x\": \"x\"}' style=\"display: none;\" >Построить график</a>"
   ]
  },
  {
   "cell_type": "markdown",
   "id": "7f04028f",
   "metadata": {},
   "source": [
    "## Численное решение"
   ]
  },
  {
   "cell_type": "code",
   "execution_count": 1,
   "id": "9ab76f57",
   "metadata": {},
   "outputs": [],
   "source": [
    "import numpy as np\n",
    "import matplotlib.pyplot as plt\n",
    "from IPython.display import display\n",
    "import ipywidgets as ip_w \n",
    "\n",
    "#Исходные данные\n",
    "A, B = 0, 1\n",
    "func = lambda x, y: (-y*x+x*(x**2 + 1))/(x**2 + 1) # определение исходной функции\n",
    "source_func = lambda x: (x**4+2*(x**2)+2*np.sqrt(x**2+1)+1 )/ (3*(x**2 + 1)) # точное решение\n",
    "Y0 = 1\n",
    "h1 = 0.1\n",
    "h2 = 0.01"
   ]
  },
  {
   "cell_type": "code",
   "execution_count": 2,
   "id": "e276b050",
   "metadata": {},
   "outputs": [],
   "source": [
    "def Method_Runge_Kutta(f,  y0, left, right, h):\n",
    "    xs = np.arange(left, right+h, h) # определение точек x\n",
    "    # определение коэффициентов K\n",
    "    K1 = lambda x, y: func(x, y)\n",
    "    K2 = lambda x, y, h: func(x + h/2, y + h*K1(x, y)/2)\n",
    "    K3 = lambda x, y, h: func(x + h/2, y + h*K2(x, y, h)/2)\n",
    "    K4 = lambda x, y, h: func(x + h, y + h*K3(x, y, h))\n",
    "    y_next = y0\n",
    "    ys= [y_next] # список с значениями y\n",
    "    # рассчет согласно формулам\n",
    "    for x in xs[1:]:\n",
    "        y_next = y_next + (h/6) * (K1(x, y_next) + 2*K2(x, y_next, h) + 2*K3(x, y_next, h) + K4(x, y_next, h))\n",
    "        ys.append(y_next) # добавление значения\n",
    "    return xs, np.array(ys)"
   ]
  },
  {
   "cell_type": "code",
   "execution_count": 3,
   "id": "1f1681ac",
   "metadata": {},
   "outputs": [],
   "source": [
    "# Функция для оценки максимального отклонения от аналитического решения\n",
    "def max_error(xs, ys, source_func):\n",
    "    return max(np.fabs(ys - source_func(xs)))"
   ]
  },
  {
   "cell_type": "code",
   "execution_count": 4,
   "id": "7fafc2a2",
   "metadata": {},
   "outputs": [],
   "source": [
    "def comparison_source_with_Method_Runge_Kutta(y0, a, b, h):\n",
    "    xs, ys = Method_Runge_Kutta(func, y0, a, b, h)\n",
    "    plt.rcParams[\"figure.figsize\"] = (15,8)\n",
    "    plt.grid(True)\n",
    "    plt.plot(xs, ys, color=\"blue\", label=\"Метод Рунге-Кутты 4го порядка \" + str(h))\n",
    "    plt.plot(xs, source_func(xs), color=\"red\", label=f\"Точное аналитическое решение Задачи c шагом \" + str(h))\n",
    "    plt.legend()\n",
    "    plt.show()\n",
    "    print(\"Максимальное отклонение от аналитического решения с шагом \" + str(h), \"равно : \", max_error(xs, ys, source_func))"
   ]
  },
  {
   "cell_type": "code",
   "execution_count": 5,
   "id": "7c0771fb",
   "metadata": {},
   "outputs": [
    {
     "data": {
      "application/vnd.jupyter.widget-view+json": {
       "model_id": "d444353363114577b117af163f3d4bd9",
       "version_major": 2,
       "version_minor": 0
      },
      "text/plain": [
       "interactive(children=(FloatSlider(value=0.01, description='h', max=0.1, min=0.01, step=0.01), Output()), _dom_…"
      ]
     },
     "metadata": {},
     "output_type": "display_data"
    }
   ],
   "source": [
    "ip_w.interact(comparison_source_with_Method_Runge_Kutta,  y0 = ip_w.fixed(Y0), a=ip_w.fixed(A), b=ip_w.fixed(B), h=ip_w.FloatSlider(min=0.01, max=0.1, step=0.01));"
   ]
  },
  {
   "cell_type": "markdown",
   "id": "61e3ccb2",
   "metadata": {},
   "source": [
    "## Оценка погрешности с помощью правила Рунге"
   ]
  },
  {
   "cell_type": "markdown",
   "id": "48e1c647",
   "metadata": {},
   "source": [
    "$$error = \\frac{| y_h - y_{h/2}|}{2^p - 1}$$ "
   ]
  },
  {
   "cell_type": "code",
   "execution_count": 6,
   "id": "1a568bd3",
   "metadata": {},
   "outputs": [],
   "source": [
    "def Runge_rule(ys1, ys2, p=1):\n",
    "    return max(np.fabs(ys1 - ys2))/(2**p - 1)"
   ]
  },
  {
   "cell_type": "code",
   "execution_count": 7,
   "id": "91e217e7",
   "metadata": {},
   "outputs": [],
   "source": [
    "def Runge_Kutta_estimation_error_Ruge_depending_on_h(y0,a,b,h):\n",
    "    _, ys1 = Method_Runge_Kutta(func, y0, a, b, h)\n",
    "    _, ys2 = Method_Runge_Kutta(func, Y0, A, B, h/2)\n",
    "    if(len(ys1)!=len(ys2[::2])):\n",
    "        ys1=np.delete(ys1,len(ys1)-1,0)\n",
    "    err1 = Runge_rule(ys1, ys2[::2],5)\n",
    "    print(f\" Ошибка по Правилу рунге для шага {h} равна {round(err1, 7)}\" )"
   ]
  },
  {
   "cell_type": "code",
   "execution_count": 8,
   "id": "1b4c705e",
   "metadata": {},
   "outputs": [
    {
     "data": {
      "application/vnd.jupyter.widget-view+json": {
       "model_id": "20c06acd8d174a2db129e6aec42dfcb2",
       "version_major": 2,
       "version_minor": 0
      },
      "text/plain": [
       "interactive(children=(FloatSlider(value=0.01, description='h', max=0.1, min=0.01, step=0.01), Output()), _dom_…"
      ]
     },
     "metadata": {},
     "output_type": "display_data"
    }
   ],
   "source": [
    "ip_w.interact(Runge_Kutta_estimation_error_Ruge_depending_on_h,  y0 = ip_w.fixed(Y0), a=ip_w.fixed(A), b=ip_w.fixed(B), p=ip_w.fixed(1), h=ip_w.FloatSlider(min=0.01, max=0.1, step=0.01));"
   ]
  },
  {
   "cell_type": "markdown",
   "id": "1597671b",
   "metadata": {},
   "source": [
    "Ошибка по Правило рунге для шага 0.01 равна 0.0000705<br>\n",
    "Ошибка по Правило рунге для шага 0.1 равна 0.0007902"
   ]
  },
  {
   "cell_type": "markdown",
   "id": "adfb397d",
   "metadata": {},
   "source": [
    "## Нахождение решения с помощью библиотеки scipy"
   ]
  },
  {
   "cell_type": "code",
   "execution_count": 9,
   "id": "db93727c",
   "metadata": {},
   "outputs": [],
   "source": [
    "from scipy.integrate import odeint as ODE"
   ]
  },
  {
   "cell_type": "code",
   "execution_count": 10,
   "id": "6a3d37dd",
   "metadata": {},
   "outputs": [],
   "source": [
    "g = lambda y, x : func(x,y)\n",
    "def scipy_ODE(func, y0, a, b, h):\n",
    "    xs = np.arange(a, b+h, h)\n",
    "    ys = ODE(func, y0, xs)\n",
    "    return xs, ys"
   ]
  },
  {
   "cell_type": "code",
   "execution_count": 11,
   "id": "a360e386",
   "metadata": {},
   "outputs": [],
   "source": [
    "def comparison_source_with_Scipy(y0, a, b, h):\n",
    "    xs, ys = scipy_ODE(g, Y0, A, B, h)\n",
    "    plt.rcParams[\"figure.figsize\"] = (15,8)\n",
    "    plt.grid(True)\n",
    "    plt.plot(xs, ys, color=\"blue\", label=\"Решение с помощью модуля scipy \" + str(h))\n",
    "    plt.plot(xs, source_func(xs), color=\"red\", label=f\"Точное аналитическое решение Задачи c шагом \" + str(h))\n",
    "    plt.legend()\n",
    "    plt.show()    \n",
    "    print(\"Максимальное отклонение от аналитического решения с шагом \" + str(h), \"равно : \", max_error(xs, ys.flat, source_func))\n"
   ]
  },
  {
   "cell_type": "code",
   "execution_count": 12,
   "id": "e8e9e717",
   "metadata": {},
   "outputs": [
    {
     "data": {
      "application/vnd.jupyter.widget-view+json": {
       "model_id": "e080bbef3eca4cfdae78a07569d12244",
       "version_major": 2,
       "version_minor": 0
      },
      "text/plain": [
       "interactive(children=(FloatSlider(value=0.01, description='h', max=0.1, min=0.01, step=0.01), Output()), _dom_…"
      ]
     },
     "metadata": {},
     "output_type": "display_data"
    }
   ],
   "source": [
    "ip_w.interact(comparison_source_with_Scipy,  y0 = ip_w.fixed(Y0), a=ip_w.fixed(A), b=ip_w.fixed(B), h=ip_w.FloatSlider(min=0.01, max=0.1, step=0.01));"
   ]
  },
  {
   "cell_type": "markdown",
   "id": "aa312e48",
   "metadata": {},
   "source": [
    "Значения от аналитического решения отличаются на 10^(-7)"
   ]
  }
 ],
 "metadata": {
  "kernelspec": {
   "display_name": "Python 3 (ipykernel)",
   "language": "python",
   "name": "python3"
  },
  "language_info": {
   "codemirror_mode": {
    "name": "ipython",
    "version": 3
   },
   "file_extension": ".py",
   "mimetype": "text/x-python",
   "name": "python",
   "nbconvert_exporter": "python",
   "pygments_lexer": "ipython3",
   "version": "3.9.7"
  }
 },
 "nbformat": 4,
 "nbformat_minor": 5
}
