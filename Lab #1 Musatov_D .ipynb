{
 "cells": [
  {
   "cell_type": "markdown",
   "id": "e406a787",
   "metadata": {},
   "source": [
    "# Cеточные модели уравнений с частными производными"
   ]
  },
  {
   "cell_type": "markdown",
   "id": "055c13e2",
   "metadata": {},
   "source": [
    "## Лабораторная №1 (Методы Эйлера и Эйлера Коши)"
   ]
  },
  {
   "cell_type": "markdown",
   "id": "1d0735ec",
   "metadata": {},
   "source": [
    "Выполнил Мусатов Данила Юрьевич КМБО-03-18"
   ]
  },
  {
   "cell_type": "markdown",
   "id": "306b36a5",
   "metadata": {},
   "source": [
    "# Задание №1"
   ]
  },
  {
   "cell_type": "markdown",
   "id": "450d5829",
   "metadata": {},
   "source": [
    "Требуется найти функцию $Y=Y(x), $ удовлетворяющую уравнению $ Y'=f(x,Y) $ и принимающую при $x=x_0$ заданное значение $Y_0 : Y(x_0) = Y_0 $\n"
   ]
  },
  {
   "cell_type": "markdown",
   "id": "b50d2abc",
   "metadata": {},
   "source": [
    "Вариант 2 : $$ y'(x) =\\frac{(-y(x))}{2x}+x^2, \\ y (1) = 1, x \\in{[1,2]}$$ "
   ]
  },
  {
   "cell_type": "markdown",
   "id": "807707dc",
   "metadata": {},
   "source": [
    "Алгоритм Эйлера. <br>Общая формула для приближения решения будет иметь вид: $ y_{i+1} = y_i + hf(x_i, y_i) $  \n",
    "Полученная аппроксимация имеет первый порядок  $ - \\ $ точность метода  O(h)"
   ]
  },
  {
   "cell_type": "markdown",
   "id": "dc6b79fd",
   "metadata": {},
   "source": [
    "## Точное аналитическое решение\n",
    "<br>$$y{\\left(1 \\right)} = 1$$<br><br>$$y{\\left(x \\right)} = \\frac{C_{1}}{\\sqrt{x}} + \\frac{2 x^{3}}{7}$$<br><br>$$1 = \\frac{1}{\\sqrt{1}} C_{1} + \\frac{2 \\cdot 1^{3}}{7}$$<br><br>$$C_{1} = \\frac{5}{7}$$<br><br>$$y{\\left(x \\right)} = \\frac{2 x^{3}}{7} + \\frac{5}{7 \\sqrt{x}}$$<br><br><a data-pod=\"funcgraphs.xy\" data-input='{\"function\": \"2*x^3/7 + 5/(7*sqrt(x))\", \"x\": \"x\"}' style=\"display: none;\" >"
   ]
  },
  {
   "cell_type": "markdown",
   "id": "6191e6ff",
   "metadata": {},
   "source": [
    "# Реализация"
   ]
  },
  {
   "cell_type": "code",
   "execution_count": 1,
   "id": "b49646e6",
   "metadata": {},
   "outputs": [],
   "source": [
    "#! jupyter nbextension install --user --py widgetsnbextension"
   ]
  },
  {
   "cell_type": "code",
   "execution_count": 2,
   "id": "2cd40594",
   "metadata": {},
   "outputs": [],
   "source": [
    "#! jupyter nbextension enable --py widgetsnbextension"
   ]
  },
  {
   "cell_type": "code",
   "execution_count": 3,
   "id": "be4d1a0d",
   "metadata": {},
   "outputs": [],
   "source": [
    "# модуль для отображение виджета\n",
    "from IPython.display import display\n",
    "import ipywidgets as ip_w\n",
    "import numpy as np\n",
    "import matplotlib.pyplot as plt\n",
    "import math"
   ]
  },
  {
   "cell_type": "code",
   "execution_count": 4,
   "id": "e7741d2b",
   "metadata": {},
   "outputs": [],
   "source": [
    "def Method_Euler_without_recalc(f, y0, a, b, h):\n",
    "    #Euler method withot recalc\n",
    "    xs = np.arange(a, b + h, h)\n",
    "    ys = [y0]\n",
    "    for x in xs[1:]:\n",
    "        ys.append(ys[-1] + h*f(x, ys[-1]))\n",
    "    return xs, np.array(ys)  "
   ]
  },
  {
   "cell_type": "code",
   "execution_count": 5,
   "id": "9d058c8e",
   "metadata": {},
   "outputs": [],
   "source": [
    "f = lambda x, y : ((-y)/(2*x)+x**2) #исходная произовдная функции\n",
    "A = 1 #левый конец интервала\n",
    "B = 2 #правый конец интервала\n",
    "Y0 = 1 #начальная точка"
   ]
  },
  {
   "cell_type": "code",
   "execution_count": 6,
   "id": "07a921c9",
   "metadata": {},
   "outputs": [],
   "source": [
    "def source_func(x): # Аналитическое решение задачи\n",
    "    return 2*(x**3)/7 + 5/(7*np.sqrt(x))"
   ]
  },
  {
   "cell_type": "code",
   "execution_count": 7,
   "id": "9f2d47a8",
   "metadata": {},
   "outputs": [],
   "source": [
    "# Функция для оценки максимального отклонения от аналитического решения\n",
    "def max_error(xs, ys, source_func):\n",
    "    return max(np.fabs(ys - source_func(xs)))"
   ]
  },
  {
   "cell_type": "code",
   "execution_count": 8,
   "id": "0f8c8fd1",
   "metadata": {},
   "outputs": [],
   "source": [
    "def source_without_recalc(y0, a, b, h): #сравнение между методом Эйлера и точным значением\n",
    "    xs, ys = Method_Euler_without_recalc(f, y0, a, b, h)\n",
    "    plt.rcParams[\"figure.figsize\"] = (15,8)\n",
    "    plt.grid(True)\n",
    "    plt.plot(xs, ys, color=\"blue\", label=\"Метод эйлера без перерасчета с шагом \" + str(h))\n",
    "    plt.plot(xs, source_func(xs), color=\"green\", label=f\"Точное аналитическое решение Задачи c шагом \" + str(h))\n",
    "    plt.legend()\n",
    "    plt.show()\n",
    "    print(\"Максимальное отклонение от аналитического решения с шагом \" + str(h), \"равно : \", max_error(xs, ys, source_func))"
   ]
  },
  {
   "cell_type": "code",
   "execution_count": 9,
   "id": "ecc5ccff",
   "metadata": {},
   "outputs": [
    {
     "data": {
      "application/vnd.jupyter.widget-view+json": {
       "model_id": "33395e9bea934cb586fed67c2ec40af5",
       "version_major": 2,
       "version_minor": 0
      },
      "text/plain": [
       "interactive(children=(FloatSlider(value=0.01, description='h', max=0.1, min=0.01, step=0.01), Output()), _dom_…"
      ]
     },
     "metadata": {},
     "output_type": "display_data"
    }
   ],
   "source": [
    "ip_w.interact(source_without_recalc,  y0 = ip_w.fixed(Y0), a=ip_w.fixed(A), b=ip_w.fixed(B), h=ip_w.FloatSlider(min=0.01, max=0.1, step=0.01));"
   ]
  },
  {
   "cell_type": "markdown",
   "id": "cc216c0d",
   "metadata": {},
   "source": [
    "## Оценка погрешности с помощью правила Рунге"
   ]
  },
  {
   "cell_type": "markdown",
   "id": "9730f124",
   "metadata": {},
   "source": [
    "$$error = \\frac{| y_h - y_{h/2}|}{2^p - 1}$$ "
   ]
  },
  {
   "cell_type": "code",
   "execution_count": 10,
   "id": "4765f3d2",
   "metadata": {},
   "outputs": [],
   "source": [
    "def Runge_rule(ys1, ys2, p=1):\n",
    "    return max(np.fabs(ys1 - ys2))/(2**p - 1)"
   ]
  },
  {
   "cell_type": "markdown",
   "id": "56be2c38",
   "metadata": {},
   "source": [
    "Для метода Эйлера без перерасчета порядок точности равен 1"
   ]
  },
  {
   "cell_type": "code",
   "execution_count": 11,
   "id": "7b6cbf2b",
   "metadata": {},
   "outputs": [],
   "source": [
    "def Euler_estimation_error_Ruge_depending_on_h(y0,a,b,h):\n",
    "    _, ys1 = Method_Euler_without_recalc(f, y0, a, b, h)\n",
    "    _, ys2 = Method_Euler_without_recalc(f, Y0, A, B, h/2)\n",
    "    if(len(ys1)!=len(ys2[::2])):\n",
    "        ys1=np.delete(ys1,len(ys1)-1,0)\n",
    "    err1 = Runge_rule(ys1, ys2[::2])\n",
    "    print(f\" Ошибка по Правило рунге для шага {h} равна {round(err1, 7)}\" )"
   ]
  },
  {
   "cell_type": "code",
   "execution_count": 12,
   "id": "88793ef9",
   "metadata": {},
   "outputs": [
    {
     "data": {
      "application/vnd.jupyter.widget-view+json": {
       "model_id": "375abcfa74dd4de6adf3edb43534b0f3",
       "version_major": 2,
       "version_minor": 0
      },
      "text/plain": [
       "interactive(children=(FloatSlider(value=0.01, description='h', max=0.1, min=0.01, step=0.01), Output()), _dom_…"
      ]
     },
     "metadata": {},
     "output_type": "display_data"
    }
   ],
   "source": [
    "ip_w.interact(Euler_estimation_error_Ruge_depending_on_h,  y0 = ip_w.fixed(Y0), a=ip_w.fixed(A), b=ip_w.fixed(B), p=ip_w.fixed(1), h=ip_w.FloatSlider(min=0.01, max=0.1, step=0.01));"
   ]
  },
  {
   "cell_type": "markdown",
   "id": "1525b405",
   "metadata": {},
   "source": [
    "Ошибка по Правило рунге для шага 0.01 равна 0.0086439<br>\n",
    "Ошибка по Правило рунге для шага 0.1 равна 0.088106"
   ]
  },
  {
   "cell_type": "markdown",
   "id": "124589d7",
   "metadata": {},
   "source": [
    "## Метод эйлера с пересчётом"
   ]
  },
  {
   "cell_type": "markdown",
   "id": "2f1d05eb",
   "metadata": {},
   "source": [
    "Модификация алгоритма Эйлера. формула с пересчетом\n",
    "Общая рекуррентная формула имеет вид:\n",
    "$$ y_{i+1} = y_i + \\frac{h}{2} (f(x_i,y_i) + f(x_{i+1}, y_i + hf(x_i, y_i))).$$ \n",
    "\n",
    "Точность данного метода  $ - \\ O(h^2)$"
   ]
  },
  {
   "cell_type": "code",
   "execution_count": 13,
   "id": "c8bcaaf9",
   "metadata": {},
   "outputs": [],
   "source": [
    "def Method_Euler_with_recalc(f, y0, a, b, h):\n",
    "    #Modification Euler method\n",
    "    ys = [y0]\n",
    "    xs = np.arange(a, b + h, h)\n",
    "    for x in xs[1: ]:\n",
    "        ys.append(ys[-1] + h/2 * (f(x, ys[-1]) + f(x + h, ys[-1] + h*f(x, ys[-1]))))\n",
    "    return xs, np.array(ys)  "
   ]
  },
  {
   "cell_type": "code",
   "execution_count": 14,
   "id": "908392e8",
   "metadata": {},
   "outputs": [],
   "source": [
    "def comparison_source_with_recalc(y0, a, b, h):\n",
    "    xs, ys = Method_Euler_with_recalc(f, y0, a, b, h)\n",
    "    plt.rcParams[\"figure.figsize\"] = (15,8)\n",
    "    plt.grid(True)\n",
    "    plt.plot(xs, ys, color=\"blue\", label=\"Метод эйлера С перерасчета с шагом \" + str(h))\n",
    "    plt.plot(xs, source_func(xs), color=\"green\", label=f\"Точное аналитическое решение Задачи c шагом \" + str(h))\n",
    "    plt.legend()\n",
    "    plt.show()\n",
    "    print(\"Максимальное отклонение от аналитического решения с шагом \" + str(h), \"равно : \", max_error(xs, ys, source_func))"
   ]
  },
  {
   "cell_type": "code",
   "execution_count": 15,
   "id": "77acb9ac",
   "metadata": {},
   "outputs": [
    {
     "data": {
      "application/vnd.jupyter.widget-view+json": {
       "model_id": "7ce3f21777c040f98c4f9da54e99cf08",
       "version_major": 2,
       "version_minor": 0
      },
      "text/plain": [
       "interactive(children=(FloatSlider(value=0.01, description='h', max=0.1, min=0.01, step=0.01), Output()), _dom_…"
      ]
     },
     "metadata": {},
     "output_type": "display_data"
    }
   ],
   "source": [
    "ip_w.interact(comparison_source_with_recalc,  y0 = ip_w.fixed(Y0), a=ip_w.fixed(A), b=ip_w.fixed(B), h=ip_w.FloatSlider(min=0.01, max=0.1, step=0.01));"
   ]
  },
  {
   "cell_type": "markdown",
   "id": "1d855b5b",
   "metadata": {},
   "source": [
    "## Оценка погрешности с помощью правила Рунге"
   ]
  },
  {
   "cell_type": "markdown",
   "id": "c72062b1",
   "metadata": {},
   "source": [
    "$$error = \\frac{| y_h - y_{h/2}|}{2^p - 1}$$ "
   ]
  },
  {
   "cell_type": "markdown",
   "id": "5afaafbb",
   "metadata": {},
   "source": [
    "Для метода Эйлера c перерасчетом порядок точности равен 2"
   ]
  },
  {
   "cell_type": "code",
   "execution_count": 16,
   "id": "04ea758a",
   "metadata": {},
   "outputs": [],
   "source": [
    "def Euler_2_estimation_error_Ruge_depending_on_h(y0,a,b,h):\n",
    "    _, ys1 = Method_Euler_with_recalc(f, y0, a, b, h)\n",
    "    _, ys2 = Method_Euler_with_recalc(f, Y0, A, B, h/2)\n",
    "    if(len(ys1)!=len(ys2[::2])):\n",
    "        ys1=np.delete(ys1,len(ys1)-1,0)\n",
    "    err1 = Runge_rule(ys1, ys2[::2],2)\n",
    "    print(f\" Ошибка по Правилу рунге для шага {h} равна {round(err1, 7)}\" )"
   ]
  },
  {
   "cell_type": "code",
   "execution_count": 17,
   "id": "4c3b7aca",
   "metadata": {},
   "outputs": [
    {
     "data": {
      "application/vnd.jupyter.widget-view+json": {
       "model_id": "227a2f0f10664485b28ddbc5e74f881b",
       "version_major": 2,
       "version_minor": 0
      },
      "text/plain": [
       "interactive(children=(FloatSlider(value=0.01, description='h', max=0.1, min=0.01, step=0.01), Output()), _dom_…"
      ]
     },
     "metadata": {},
     "output_type": "display_data"
    }
   ],
   "source": [
    "ip_w.interact(Euler_2_estimation_error_Ruge_depending_on_h,  y0 = ip_w.fixed(Y0), a=ip_w.fixed(A), b=ip_w.fixed(B), p=ip_w.fixed(1), h=ip_w.FloatSlider(min=0.01, max=0.1, step=0.01));"
   ]
  },
  {
   "cell_type": "markdown",
   "id": "371d6ec6",
   "metadata": {},
   "source": [
    "Ошибка по Правило рунге для шага 0.01 равна 0.004944<br>\n",
    "Ошибка по Правило рунге для шага 0.1 равна 0.05211"
   ]
  },
  {
   "cell_type": "markdown",
   "id": "5eb4a1ac",
   "metadata": {},
   "source": [
    "## Нахождение решения с помощью библиотеки scipy"
   ]
  },
  {
   "cell_type": "code",
   "execution_count": 18,
   "id": "6eba08d6",
   "metadata": {},
   "outputs": [],
   "source": [
    "from scipy.integrate import odeint as ODE"
   ]
  },
  {
   "cell_type": "code",
   "execution_count": 19,
   "id": "34560da7",
   "metadata": {},
   "outputs": [],
   "source": [
    "g = lambda y, x : f(x,y)\n",
    "def scipy_ODE(f, y0, a, b, h):\n",
    "    xs = np.arange(a, b+h, h)\n",
    "    ys = ODE(f, y0, xs)\n",
    "    return xs, ys"
   ]
  },
  {
   "cell_type": "code",
   "execution_count": 20,
   "id": "09a27416",
   "metadata": {},
   "outputs": [],
   "source": [
    "def comparison_source_with_Scipy(y0, a, b, h):\n",
    "    xs, ys = scipy_ODE(g, Y0, A, B, h)\n",
    "    plt.rcParams[\"figure.figsize\"] = (15,8)\n",
    "    plt.grid(True)\n",
    "    plt.plot(xs, ys, color=\"blue\", label=\"Решение с помощью модуля Scipy \" + str(h))\n",
    "    plt.plot(xs, source_func(xs), color=\"green\", label=f\"Точное аналитическое решение Задачи c шагом \" + str(h))\n",
    "    plt.legend()\n",
    "    plt.show()    \n",
    "    print(\"Максимальное отклонение от аналитического решения с шагом \" + str(h), \"равно : \", max_error(xs, ys.flat, source_func))\n"
   ]
  },
  {
   "cell_type": "code",
   "execution_count": 21,
   "id": "68bd445d",
   "metadata": {},
   "outputs": [
    {
     "data": {
      "application/vnd.jupyter.widget-view+json": {
       "model_id": "6e7d907930824ddc919fecb20cdab0ee",
       "version_major": 2,
       "version_minor": 0
      },
      "text/plain": [
       "interactive(children=(FloatSlider(value=0.01, description='h', max=0.1, min=0.01, step=0.01), Output()), _dom_…"
      ]
     },
     "metadata": {},
     "output_type": "display_data"
    }
   ],
   "source": [
    "ip_w.interact(comparison_source_with_Scipy,  y0 = ip_w.fixed(Y0), a=ip_w.fixed(A), b=ip_w.fixed(B), h=ip_w.FloatSlider(min=0.01, max=0.1, step=0.01));"
   ]
  },
  {
   "cell_type": "markdown",
   "id": "6f0a14c3",
   "metadata": {},
   "source": [
    "Значения от аналитического решения отличаются на 10^(-8)"
   ]
  },
  {
   "cell_type": "code",
   "execution_count": null,
   "id": "5036444f",
   "metadata": {},
   "outputs": [],
   "source": []
  }
 ],
 "metadata": {
  "kernelspec": {
   "display_name": "Python 3 (ipykernel)",
   "language": "python",
   "name": "python3"
  },
  "language_info": {
   "codemirror_mode": {
    "name": "ipython",
    "version": 3
   },
   "file_extension": ".py",
   "mimetype": "text/x-python",
   "name": "python",
   "nbconvert_exporter": "python",
   "pygments_lexer": "ipython3",
   "version": "3.9.7"
  }
 },
 "nbformat": 4,
 "nbformat_minor": 5
}
