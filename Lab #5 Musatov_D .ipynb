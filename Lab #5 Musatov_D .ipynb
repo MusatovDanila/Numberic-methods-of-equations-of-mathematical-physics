{
 "cells": [
  {
   "cell_type": "markdown",
   "id": "043bca69",
   "metadata": {},
   "source": [
    "# Cеточные модели уравнений с частными производными"
   ]
  },
  {
   "cell_type": "markdown",
   "id": "3b6bf235",
   "metadata": {},
   "source": [
    "## Лабораторная №5 (Метод Стрельбы)"
   ]
  },
  {
   "cell_type": "markdown",
   "id": "d1014ac4",
   "metadata": {},
   "source": [
    "Выполнил Мусатов Данила Юрьевич КМБО-03-18"
   ]
  },
  {
   "cell_type": "markdown",
   "id": "433ab85c",
   "metadata": {},
   "source": [
    "Суть метода заключена в многократном решении задачи Коши для приближенного нахождения решения краевой задачи. Рассмотрим следующую краевую задачу на отрезке $[a, b]$ :\n",
    "\n",
    "$$\n",
    "y^{\\prime \\prime}=f\\left(x, y, y^{\\prime}\\right)\n",
    "$$\n",
    "\n",
    "c граничными условиями\n",
    "\n",
    "$$\n",
    "y(a)=y_{a}, \\quad y(b)=y_{b} .\n",
    "$$\n",
    "\n",
    "Вместо исходной задачи формулируется задача Коши с данным уравнением и с начальными условиями:\n",
    "\n",
    "$$\n",
    "y(a)=y_{0}, \\quad y^{\\prime}(a)=\\eta\n",
    "$$\n",
    "\n",
    "где $\\eta$ - некоторое значение тангенса угла наклона касательной к решению в точке $x=a .$ Положим сначала некоторое начальное значение параметру $\\eta=\\eta_{0}$, после чего решим каким-либо методом полученную задачу Коши. Пусть $y=y\\left(x, y_{0}, \\eta_{0}\\right)-$ решение этой задачи на интервале $[a, b] .$ Тогда сравнивая значение функции $y\\left(b, y_{0}, \\eta_{0}\\right)$ со значением $y_{1}$ на правом конце отрезка, можно получить информацию для корректировки угла наклона касательной к решению на левом конце отрезка. Решая задачу Коши для нового значения $\\eta=\\eta_{1}$, получим другое решение со значением $y\\left(b, y_{0}, \\eta_{1}\\right)$ на правом конце. Таким образом значение решения на правом конце $y\\left(b, y_{0}, \\eta\\right)$ будет являться функцией одной переменной \\eta. Задачу можно сформулировать следующим образом: требуется найти значение переменной $\\eta^{*}$ такое, чтобы решение $y\\left(b, y_{0}, \\eta^{*}\\right)$ на правом конце отрезка совпало со значением $y_{1}$. Другими словами, решение исходной задачи эквивалентно нахождению корня уравнения\n",
    "\n",
    "$$\n",
    "\\Phi(\\eta)=0\n",
    "$$\n",
    "\n",
    "в котором $\\Phi(\\eta)=y\\left(b, y_{0}, \\eta\\right)-y_{1}$.\n"
   ]
  },
  {
   "cell_type": "markdown",
   "id": "7ec6bbf5",
   "metadata": {},
   "source": [
    "#### Задание: (Вариант №2)\n",
    "Решить краевую задачу для ОДУ второго порядка методом стрельбы.\n",
    "$$\\begin{array}{l}\n",
    "\\left(x^{2}-1\\right) y^{\\prime \\prime}+(x-3) y^{\\prime}-y=0, \\\\\n",
    "y(0)=-18, \\qquad\\quad y(3)=0\n",
    "\\end{array}$$ "
   ]
  },
  {
   "cell_type": "markdown",
   "id": "02cdebd6",
   "metadata": {},
   "source": [
    "### Аналитическое решение\n",
    "$$\n",
    "y=6(x-3)\n",
    "$$"
   ]
  },
  {
   "cell_type": "code",
   "execution_count": 1,
   "id": "1b667214",
   "metadata": {},
   "outputs": [],
   "source": [
    "import matplotlib.pyplot as plt\n",
    "#from math import cos, sin\n",
    "from IPython.display import display\n",
    "import ipywidgets as ip_w \n",
    "import numpy as np"
   ]
  },
  {
   "cell_type": "code",
   "execution_count": 2,
   "id": "bf93e5fd",
   "metadata": {},
   "outputs": [],
   "source": [
    "# Функция для оценки максимального отклонения от аналитического решения\n",
    "def max_error(xs, ys, source_func):\n",
    "    return max(np.fabs(ys - source_func(xs)))"
   ]
  },
  {
   "cell_type": "code",
   "execution_count": 3,
   "id": "db9a1ddd",
   "metadata": {},
   "outputs": [],
   "source": [
    "A = 0\n",
    "B = 3\n",
    "YA = -18\n",
    "YB = 0"
   ]
  },
  {
   "cell_type": "code",
   "execution_count": 4,
   "id": "7f32b04f",
   "metadata": {},
   "outputs": [],
   "source": [
    "func = lambda x, y, z: (- (((x-3)*z) - y)/(x**2 - 1))\n",
    "\n",
    "source_func = lambda x:  6*(x-3)    # аналитическое решение\n",
    "\n",
    "def Method_Euler_without_recalc(func, a, b, y0, z0, h):\n",
    "    #Euler method withot recalc\n",
    "    xs = np.arange(a, b + h, h)\n",
    "    ys = [y0]\n",
    "    zs = [z0]\n",
    "    for x in xs[1:]:\n",
    "        ys.append(ys[-1] + h*zs[-1])\n",
    "        zs.append(zs[-1] + h*func(x-h,ys[-1], zs[-1]))\n",
    "    return xs, np.array(ys) , np.array(zs)                   \n",
    "        \n",
    "def Shooting_method(func, a, b, y0, y1, eps, z_now, h):\n",
    "    _,y_t,_=Method_Euler_without_recalc(func, a, b, y0, z_now, h)\n",
    "    F_n=y_t[len(y_t)-1]-y1\n",
    "    while np.fabs(F_n)>eps:\n",
    "        z_now_1 = z_now+0.001\n",
    "        _,y_t_now,_ = Method_Euler_without_recalc(func, a, b, y0, z_now_1, h)\n",
    "        F_n_now=y_t_now[len(y_t_now)-1]-y1\n",
    "        if F_n > 0:\n",
    "            if(F_n > F_n_now):\n",
    "                sgn=1\n",
    "            else:\n",
    "                sgn=-1\n",
    "        else:\n",
    "            if(F_n>F_n_now):\n",
    "                sgn=-1\n",
    "            else:\n",
    "                sgn=1\n",
    "                \n",
    "        while (F_n_now*F_n>0):\n",
    "            z_now_1 += (0.1*sgn)\n",
    "            _,y_t,_= Method_Euler_without_recalc(func, a, b, y0, z_now_1, h)\n",
    "            F_n_now = y_t[len(y_t)-1]-y1\n",
    "        z_now = (z_now+z_now_1)/2\n",
    "        _,y_t,_=Method_Euler_without_recalc(func, a, b, y0, z_now, h)\n",
    "        F_n=y_t[len(y_t)-1]-y1\n",
    "    return z_now\n",
    "\n",
    "def source_shooting(a, b,y0, y1, eps,z_start, h): #сравнение между методом стрельбы с применением метода Эйлера и точным значением\n",
    "    print(\"y'=\"+ str(Shooting_method(func,a,b,y0,y1,eps,z_start,h)))\n",
    "    xs, ys, zs = Method_Euler_without_recalc(func, a, b, y0, Shooting_method(func,a,b,y0,y1,eps,z_start,h), h)\n",
    "    plt.rcParams[\"figure.figsize\"] = (15,8)\n",
    "    plt.grid(True)\n",
    "    plt.plot(xs, zs, color=\"green\", label=\"График производной полученной методом эйлера без перерасчета с шагом \" + str(h))\n",
    "    plt.plot(xs, ys, color=\"blue\", label=\"Метод эйлера без перерасчета с шагом \" + str(h))\n",
    "    plt.plot(xs, source_func(xs), color=\"red\", label=f\"Точное аналитическое решение Задачи c шагом \" + str(h))\n",
    "    plt.legend()\n",
    "    plt.show()\n",
    "    print(\"Максимальное отклонение от аналитического решения с шагом \" + str(h), \"равно : \", max_error(xs, ys, source_func))\n",
    "    "
   ]
  },
  {
   "cell_type": "code",
   "execution_count": 5,
   "id": "89731454",
   "metadata": {},
   "outputs": [
    {
     "data": {
      "application/vnd.jupyter.widget-view+json": {
       "model_id": "4d4f57fbb57d45048f771c47f994057d",
       "version_major": 2,
       "version_minor": 0
      },
      "text/plain": [
       "interactive(children=(FloatSlider(value=0.01, description='eps', max=0.1, min=0.01, step=0.01), FloatSlider(va…"
      ]
     },
     "metadata": {},
     "output_type": "display_data"
    }
   ],
   "source": [
    "ip_w.interact(source_shooting, a=ip_w.fixed(A), b=ip_w.fixed(B),  y0 = ip_w.fixed(YA), y1 = ip_w.fixed(YB), eps=ip_w.FloatSlider(min=0.01, max=0.1, step=0.01),z_start=ip_w.fixed(4) , h=ip_w.FloatSlider(min=0.03, max=0.08, step=0.015));"
   ]
  },
  {
   "cell_type": "markdown",
   "id": "d2102021",
   "metadata": {},
   "source": [
    "## Оценка погрешности с помощью правила Рунге"
   ]
  },
  {
   "cell_type": "markdown",
   "id": "e3520cd2",
   "metadata": {},
   "source": [
    "$$error = \\frac{| y_h - y_{h/2}|}{2^p - 1}$$ "
   ]
  },
  {
   "cell_type": "code",
   "execution_count": 6,
   "id": "0e967aae",
   "metadata": {},
   "outputs": [],
   "source": [
    "def Runge_rule(ys1, ys2, p=1):\n",
    "    return max(np.fabs(ys1 - ys2))/(2**p - 1)"
   ]
  },
  {
   "cell_type": "code",
   "execution_count": 7,
   "id": "c4492da6",
   "metadata": {},
   "outputs": [],
   "source": [
    "def Shooting_estimation_error_Ruge_depending_on_h(a, b,y0, y1, eps,z_start, h):\n",
    "    _, ys1,_ = Method_Euler_without_recalc(func, a, b, y0, Shooting_method(func,a,b,y0,y1,eps,z_start,h), h)\n",
    "    _, ys2,_ = Method_Euler_without_recalc(func, a, b, y0, Shooting_method(func,a,b,y0,y1,eps,z_start,h/2), h/2)\n",
    "    if(len(ys1)!=len(ys2[::2])):\n",
    "        ys1=np.delete(ys1,len(ys1)-1,0)\n",
    "    err1 = Runge_rule(ys1, ys2[::2],1)\n",
    "    print(f\" Ошибка по Правилу рунге для шага {h} равна {round(err1, 7)}\" )"
   ]
  },
  {
   "cell_type": "code",
   "execution_count": 8,
   "id": "cae16e84",
   "metadata": {},
   "outputs": [
    {
     "data": {
      "application/vnd.jupyter.widget-view+json": {
       "model_id": "1dd80d1b877a4c5fa1e3588b4df809f6",
       "version_major": 2,
       "version_minor": 0
      },
      "text/plain": [
       "interactive(children=(FloatSlider(value=0.01, description='eps', max=0.1, min=0.01, step=0.01), FloatSlider(va…"
      ]
     },
     "metadata": {},
     "output_type": "display_data"
    }
   ],
   "source": [
    "ip_w.interact(Shooting_estimation_error_Ruge_depending_on_h, a=ip_w.fixed(A), b=ip_w.fixed(B),  y0 = ip_w.fixed(YA), y1 = ip_w.fixed(YB), eps=ip_w.FloatSlider(min=0.01, max=0.1, step=0.01),z_start=ip_w.fixed(4) , h=ip_w.FloatSlider(min=0.03, max=0.08, step=0.015));"
   ]
  },
  {
   "cell_type": "markdown",
   "id": "f307510f",
   "metadata": {},
   "source": [
    "Ошибка по Правилу рунге для шага 0.03 равна 0.1779034</br>\n",
    "Ошибка по Правилу рунге для шага 0.075 равна 0.4313952"
   ]
  },
  {
   "cell_type": "markdown",
   "id": "15dab720",
   "metadata": {},
   "source": [
    "## Нахождение решения с помощью библиотеки scipy"
   ]
  },
  {
   "cell_type": "code",
   "execution_count": 9,
   "id": "ab48549e",
   "metadata": {},
   "outputs": [
    {
     "data": {
      "image/png": "[encoded data removed]",
      "text/plain": [
       "<Figure size 1080x576 with 1 Axes>"
      ]
     },
     "metadata": {
      "needs_background": "light"
     },
     "output_type": "display_data"
    },
    {
     "name": "stdout",
     "output_type": "stream",
     "text": [
      "Максимальное отклонение от аналитического решения с шагом  равно :  7.105427357601002e-15\n"
     ]
    }
   ],
   "source": [
    "from scipy.integrate import odeint, solve_bvp\n",
    "import numpy as np\n",
    "import matplotlib.pyplot as plt\n",
    "\n",
    "def dydx(x, y):\n",
    "    dy0 = y[1]\n",
    "    dy1 = (-(x-3)/(x**2-1))*y[1]+(1/(x**2-1))*y[0]\n",
    "    return np.vstack((dy0, dy1))\n",
    "\n",
    "def boundCond(ya, yb):\n",
    "    fa = -18\n",
    "    fb = 0\n",
    "    return np.array([ya[0]-fa,yb[0]-fb])\n",
    "\n",
    "xa, xb = 0, 3 \n",
    "xini = np.linspace(xa, xb, 11) \n",
    "yini = np.zeros((2, xini.size))\n",
    "res = solve_bvp(dydx, boundCond, xini, yini)\n",
    "xs = np.linspace(xa, xb, 100) \n",
    "ys = res.sol(xs)[0]\n",
    "plt.plot(xs, ys,  color=\"blue\", label=\"Решение с помощью модуля Scipy \")\n",
    "plt.plot(xs, source_func(xs), color=\"green\", label=f\"Точное аналитическое решение Задачи c шагом \" )\n",
    "plt.legend()\n",
    "plt.xlabel(\"x\")\n",
    "plt.ylabel(\"y\")\n",
    "plt.show()    \n",
    "print(\"Максимальное отклонение от аналитического решения с шагом \", \"равно : \", max_error(xs, ys, source_func))"
   ]
  },
  {
   "cell_type": "markdown",
   "id": "4c038028",
   "metadata": {},
   "source": [
    "Значения от аналитического решения отличаются на 10^(-15)"
   ]
  }
 ],
 "metadata": {
  "kernelspec": {
   "display_name": "Python 3 (ipykernel)",
   "language": "python",
   "name": "python3"
  },
  "language_info": {
   "codemirror_mode": {
    "name": "ipython",
    "version": 3
   },
   "file_extension": ".py",
   "mimetype": "text/x-python",
   "name": "python",
   "nbconvert_exporter": "python",
   "pygments_lexer": "ipython3",
   "version": "3.9.7"
  }
 },
 "nbformat": 4,
 "nbformat_minor": 5
}
