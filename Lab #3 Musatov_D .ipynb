{
 "cells": [
  {
   "cell_type": "markdown",
   "id": "fe763096",
   "metadata": {},
   "source": [
    "# Cеточные модели уравнений с частными производными"
   ]
  },
  {
   "cell_type": "markdown",
   "id": "b26fe093",
   "metadata": {},
   "source": [
    "## Лабораторная №3 (Метод Адамса)"
   ]
  },
  {
   "cell_type": "markdown",
   "id": "d267172f",
   "metadata": {},
   "source": [
    "Выполнил Мусатов Данила Юрьевич КМБО-03-18"
   ]
  },
  {
   "cell_type": "markdown",
   "id": "06ed0e96",
   "metadata": {},
   "source": [
    "# Задание №3"
   ]
  },
  {
   "cell_type": "markdown",
   "id": "cde9f4d2",
   "metadata": {},
   "source": [
    "### Метод Адамса\n",
    "Метод Адамса относится к многошаговым методам. То есть для того, чтобы вычислить значение функции на данном слое, необходимо знать значения функции на нескольких предыдущих слоях. Представим решение дифференциального уравнения в виде\n",
    "$$\n",
    "y_{k+1}=y_{k}+\\int_{x_{k}}^{x_{k=1}} f(x, y(x)) d x\n",
    "$$\n",
    "\n",
    "Если решение задачи Коши получено в уз.лах вплоть до $k$-го, то можно аппроксимировать подынтегральную функцию, например, интерпояционным многочленом какой-либо степени. Вычислив интеграл от построенного многочлена на отрезке $\\left[x_{k}, x_{k+1}\\right]$, получим ту или иную формулу А дамса. При использовании интерполяционного многочлена третьей степени, построенного по значениям подынтегральной функции в последних четырех узлах, получим метод Адамса четвертого порядка точности:\n",
    "$$\n",
    "y_{k+1}=y_{k}+\\frac{h}{24}\\left(55 f_{k}-59 f_{k-1}+37 f_{k-2}-9 f_{k-3}\\right)\n",
    "$$\n",
    "где $f_{k}-$ значние подынтегральной функции в узле $x_{k} .$ Для использования данного метода необходимо знать значения функции на четырех предыдущих слоях, их можно определить, воспользовавшись какимнибудь подходящим одношаговым методом, например - методом РунгеКутты четвертого порядка."
   ]
  },
  {
   "cell_type": "markdown",
   "id": "c3036e23",
   "metadata": {},
   "source": [
    "#### Задание:\n",
    "Решить задачу Коши методом Адамса со значениями шага h1 = 0.1, h2 = 0.01. Сравнить результаты графически\n",
    " \n",
    "\n",
    "#### Вариант 2: $\\quad y^{\\prime}=\\dfrac{y(2y\\ln(x)-2)}{x}, \\quad y(1)=\\dfrac{1}{3}, \\quad x \\in[1,2]$ ."
   ]
  },
  {
   "cell_type": "markdown",
   "id": "393173a8",
   "metadata": {},
   "source": [
    "### Аналитическое решение\n",
    "\n",
    "$$y{\\left(1 \\right)} = \\frac{1}{3}$$<br><br>$$y{\\left(x \\right)} = \\frac{2}{C_{1} x^{2} + 2 \\ln{\\left(x \\right)} + 1}$$<br><br>$$\\frac{1}{3} = \\frac{2}{1^{2} C_{1} + 2 \\ln{\\left(1 \\right)} + 1}$$<br><br>$$C_{1} = 5$$<br><br>$$y{\\left(x \\right)} = \\frac{2}{5 x^{2} + 2 \\ln{\\left(x \\right)} + 1}$$<br><br><a data-pod=\"funcgraphs.xy\" data-input='{\"function\": \"2/(1 + 2*log(x) + 5*x^2)\", \"x\": \"x\"}' style=\"display: none;\" >"
   ]
  },
  {
   "cell_type": "markdown",
   "id": "9f1e0651",
   "metadata": {},
   "source": [
    "## Численное решение"
   ]
  },
  {
   "cell_type": "code",
   "execution_count": 1,
   "id": "7218b912",
   "metadata": {},
   "outputs": [],
   "source": [
    "import numpy as np\n",
    "import matplotlib.pyplot as plt\n",
    "from IPython.display import display\n",
    "import ipywidgets as ip_w \n",
    "\n",
    "\n",
    "A, B = 1, 2\n",
    "func = lambda x, y: y*(2*y*np.log(x)-2)/x # определение данной функции (производная из варианта 3)\n",
    "source_func = lambda x: 2/(5*(x**2)+2*np.log(x)+1) # точное решение\n",
    "Y0 = 1/3"
   ]
  },
  {
   "cell_type": "code",
   "execution_count": 2,
   "id": "474b4981",
   "metadata": {},
   "outputs": [],
   "source": [
    "def Method_Adams(func, y0, a, b, h):\n",
    "    xs = np.arange(a, b+h, h) # определение точек x\n",
    "    # определение коэффициентов K\n",
    "    K1 = lambda x, y: func(x, y)\n",
    "    K2 = lambda x, y, h: func(x + h/2, y + h*K1(x, y)/2)\n",
    "    K3 = lambda x, y, h: func(x + h/2, y + h*K2(x, y, h)/2)\n",
    "    K4 = lambda x, y, h: func(x + h, y + h*K3(x, y, h))\n",
    "\n",
    "    yk_plus_1 = y0 # начальное значение\n",
    "    ys = [yk_plus_1] # список с значениями y\n",
    "\n",
    "\n",
    "    # рассчет согласно формулам (первые 3 рассчитываются методом Рунге-Кутты 4 порядка)\n",
    "    for index, i in enumerate(xs[1:]):\n",
    "        if index < 4:\n",
    "            yk_plus_1 = yk_plus_1 + (h/6) * (K1(i, yk_plus_1) + 2*K2(i, yk_plus_1, h) + 2*K3(i, yk_plus_1, h) + K4(i, yk_plus_1, h))\n",
    "        else:\n",
    "            yk_plus_1 = yk_plus_1 + (h/24) * (55 * func(i, ys[-1]) - 59*func(i, ys[-2]) + 37*func(i, ys[-3]) -9*func(i, ys[-4]))\n",
    "        ys.append(yk_plus_1)\n",
    "    return xs, np.array(ys)"
   ]
  },
  {
   "cell_type": "code",
   "execution_count": 3,
   "id": "3db638c4",
   "metadata": {},
   "outputs": [],
   "source": [
    "# Функция для оценки максимального отклонения от аналитического решения\n",
    "def max_error(xs, ys, source_func):\n",
    "    return max(np.fabs(ys - source_func(xs)))"
   ]
  },
  {
   "cell_type": "code",
   "execution_count": 4,
   "id": "a92c4a8a",
   "metadata": {},
   "outputs": [],
   "source": [
    "def comparison_sorce_Method_Adams(y0, a, b, h):\n",
    "    xs, ys = Method_Adams(func, y0, a, b, h)\n",
    "    plt.rcParams[\"figure.figsize\"] = (15,8)\n",
    "    plt.grid(True)\n",
    "    plt.plot(xs, ys, color=\"blue\", label=\"Метод Адамса \" + str(h))\n",
    "    plt.plot(xs, source_func(xs), color=\"red\", label=f\"Точное аналитическое решение Задачи c шагом \" + str(h))\n",
    "    plt.legend()\n",
    "    plt.show()\n",
    "    print(\"Максимальное отклонение от аналитического решения с шагом \" + str(h), \"равно : \", max_error(xs, ys, source_func))"
   ]
  },
  {
   "cell_type": "code",
   "execution_count": 5,
   "id": "7bfc5df2",
   "metadata": {},
   "outputs": [
    {
     "data": {
      "application/vnd.jupyter.widget-view+json": {
       "model_id": "4556844192f2403195d7dd6ab90bd0c4",
       "version_major": 2,
       "version_minor": 0
      },
      "text/plain": [
       "interactive(children=(FloatSlider(value=0.01, description='h', max=0.1, min=0.01, step=0.01), Output()), _dom_…"
      ]
     },
     "metadata": {},
     "output_type": "display_data"
    }
   ],
   "source": [
    "ip_w.interact(comparison_sorce_Method_Adams,  y0 = ip_w.fixed(Y0), a= ip_w.fixed(A), b=ip_w.fixed(B), h=ip_w.FloatSlider(min=0.01, max=0.1, step=0.01));"
   ]
  },
  {
   "cell_type": "markdown",
   "id": "bf088bb3",
   "metadata": {},
   "source": [
    "## Оценка погрешности с помощью правила Рунге"
   ]
  },
  {
   "cell_type": "markdown",
   "id": "968a4257",
   "metadata": {},
   "source": [
    "$$error = \\frac{| y_h - y_{h/2}|}{2^p - 1}$$ "
   ]
  },
  {
   "cell_type": "code",
   "execution_count": 6,
   "id": "55b3e204",
   "metadata": {},
   "outputs": [],
   "source": [
    "def Runge_rule(ys1, ys2, p=1):\n",
    "    return max(np.fabs(ys1 - ys2))/(2**p - 1)"
   ]
  },
  {
   "cell_type": "markdown",
   "id": "8517feae",
   "metadata": {},
   "source": [
    "Метод Адамса имеет 4-ый порядок точности"
   ]
  },
  {
   "cell_type": "code",
   "execution_count": 7,
   "id": "67aaa839",
   "metadata": {},
   "outputs": [],
   "source": [
    "def Method_Adams_estimation_error_Ruge_depending_on_h(y0,a,b,h):\n",
    "    _, ys1 = Method_Adams(func, y0, a, b, h)\n",
    "    _, ys2 = Method_Adams(func, Y0, A, B, h/2)\n",
    "    if(len(ys1)!=len(ys2[::2])):\n",
    "        ys1=np.delete(ys1,len(ys1)-1,0)\n",
    "    err1 = Runge_rule(ys1, ys2[::2],4)\n",
    "    print(f\" Ошибка по Правилу рунге для шага {h} равна {round(err1, 7)}\" )"
   ]
  },
  {
   "cell_type": "code",
   "execution_count": 8,
   "id": "c5f1395c",
   "metadata": {},
   "outputs": [
    {
     "data": {
      "application/vnd.jupyter.widget-view+json": {
       "model_id": "4f6ecd654b964c4b932e0e7115026c29",
       "version_major": 2,
       "version_minor": 0
      },
      "text/plain": [
       "interactive(children=(FloatSlider(value=0.01, description='h', max=0.1, min=0.01, step=0.01), Output()), _dom_…"
      ]
     },
     "metadata": {},
     "output_type": "display_data"
    }
   ],
   "source": [
    "ip_w.interact(Method_Adams_estimation_error_Ruge_depending_on_h,  y0 = ip_w.fixed(Y0), a=ip_w.fixed(A), b=ip_w.fixed(B), p=ip_w.fixed(1), h=ip_w.FloatSlider(min=0.01, max=0.1, step=0.01));"
   ]
  },
  {
   "cell_type": "markdown",
   "id": "b2e244cc",
   "metadata": {},
   "source": [
    "Ошибка по Правилу рунге для шага 0.01 равна 0.000025\n",
    "Ошибка по Правилу рунге для шага 0.1 равна 0.0004543"
   ]
  },
  {
   "cell_type": "markdown",
   "id": "ff10faf7",
   "metadata": {},
   "source": [
    "## Нахождение решения с помощью библиотеки scipy"
   ]
  },
  {
   "cell_type": "code",
   "execution_count": 9,
   "id": "f991e3cb",
   "metadata": {},
   "outputs": [],
   "source": [
    "from scipy.integrate import odeint as ODE"
   ]
  },
  {
   "cell_type": "code",
   "execution_count": 10,
   "id": "a955998f",
   "metadata": {},
   "outputs": [],
   "source": [
    "g = lambda y, x : func(x,y)\n",
    "def scipy_ODE(g, y0, a, b, h):\n",
    "    xs = np.arange(a, b+h, h)\n",
    "    ys = ODE(g, y0, xs)\n",
    "    return xs, ys"
   ]
  },
  {
   "cell_type": "code",
   "execution_count": 11,
   "id": "70601c2f",
   "metadata": {},
   "outputs": [],
   "source": [
    "def comparison_source_with_Scipy(y0, a, b, h):\n",
    "    xs, ys = scipy_ODE(g, Y0, A, B, h)\n",
    "    plt.rcParams[\"figure.figsize\"] = (15,8)\n",
    "    plt.grid(True)\n",
    "    plt.plot(xs, ys, color=\"blue\", label=\"Решение с помощью модуля scipy \" + str(h))\n",
    "    plt.plot(xs, source_func(xs), color=\"red\", label=f\"Точное аналитическое решение Задачи c шагом \" + str(h))\n",
    "    plt.legend()\n",
    "    plt.show()    \n",
    "    print(\"Максимальное отклонение от аналитического решения с шагом \" + str(h), \"равно : \", max_error(xs, ys.flat, source_func))"
   ]
  },
  {
   "cell_type": "code",
   "execution_count": 12,
   "id": "c670c9aa",
   "metadata": {},
   "outputs": [
    {
     "data": {
      "application/vnd.jupyter.widget-view+json": {
       "model_id": "9d561d238de348fcb6ed51df9b99397a",
       "version_major": 2,
       "version_minor": 0
      },
      "text/plain": [
       "interactive(children=(FloatSlider(value=0.01, description='h', max=0.1, min=0.01, step=0.01), Output()), _dom_…"
      ]
     },
     "metadata": {},
     "output_type": "display_data"
    }
   ],
   "source": [
    "ip_w.interact(comparison_source_with_Scipy,  y0 = ip_w.fixed(Y0), a=ip_w.fixed(A), b=ip_w.fixed(B), h=ip_w.FloatSlider(min=0.01, max=0.1, step=0.01));"
   ]
  },
  {
   "cell_type": "markdown",
   "id": "656bb575",
   "metadata": {},
   "source": [
    "Значения от аналитического решения отличаются на 10^(-8)"
   ]
  }
 ],
 "metadata": {
  "kernelspec": {
   "display_name": "Python 3 (ipykernel)",
   "language": "python",
   "name": "python3"
  },
  "language_info": {
   "codemirror_mode": {
    "name": "ipython",
    "version": 3
   },
   "file_extension": ".py",
   "mimetype": "text/x-python",
   "name": "python",
   "nbconvert_exporter": "python",
   "pygments_lexer": "ipython3",
   "version": "3.9.7"
  }
 },
 "nbformat": 4,
 "nbformat_minor": 5
}
